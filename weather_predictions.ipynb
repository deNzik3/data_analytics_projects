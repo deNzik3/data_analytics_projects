{
  "cells": [
    {
      "cell_type": "markdown",
      "metadata": {
        "id": "view-in-github",
        "colab_type": "text"
      },
      "source": [
        "<a href=\"https://colab.research.google.com/github/deNzik3/data_analytics_projects/blob/main/weather_predictions.ipynb\" target=\"_parent\"><img src=\"https://colab.research.google.com/assets/colab-badge.svg\" alt=\"Open In Colab\"/></a>"
      ]
    },
    {
      "cell_type": "markdown",
      "source": [
        "**Importing libraries**"
      ],
      "metadata": {
        "id": "tuuathM0Wk2v"
      },
      "id": "tuuathM0Wk2v"
    },
    {
      "cell_type": "code",
      "source": [
        "import numpy as np\n",
        "import pandas as pd\n",
        "\n",
        "import matplotlib.pyplot as plt\n",
        "import seaborn as sns"
      ],
      "metadata": {
        "id": "ArlZFogfWjQ5"
      },
      "id": "ArlZFogfWjQ5",
      "execution_count": 1,
      "outputs": []
    },
    {
      "cell_type": "markdown",
      "source": [
        "**Loading dataset**"
      ],
      "metadata": {
        "id": "LkffLWdsWo5G"
      },
      "id": "LkffLWdsWo5G"
    },
    {
      "cell_type": "code",
      "source": [
        "weather = pd.read_csv(\"weather.csv\", index_col=\"DATE\")"
      ],
      "metadata": {
        "id": "gLEDPCCGWqve"
      },
      "id": "gLEDPCCGWqve",
      "execution_count": 2,
      "outputs": []
    },
    {
      "cell_type": "code",
      "execution_count": 3,
      "id": "08517c6f-7f32-44b1-87c1-eee4e7e12e8d",
      "metadata": {
        "colab": {
          "base_uri": "https://localhost:8080/",
          "height": 504
        },
        "id": "08517c6f-7f32-44b1-87c1-eee4e7e12e8d",
        "outputId": "3d0e1dd0-3eb9-44e7-b993-487d5d08c55f"
      },
      "outputs": [
        {
          "output_type": "execute_result",
          "data": {
            "text/plain": [
              "                STATION                      NAME  ACMH   ACSH  AWND  FMTM  \\\n",
              "DATE                                                                         \n",
              "1970-01-01  USW00014732  LAGUARDIA AIRPORT, NY US  80.0   90.0   NaN   NaN   \n",
              "1970-01-02  USW00014732  LAGUARDIA AIRPORT, NY US  20.0   20.0   NaN   NaN   \n",
              "1970-01-03  USW00014732  LAGUARDIA AIRPORT, NY US  90.0  100.0   NaN   NaN   \n",
              "1970-01-04  USW00014732  LAGUARDIA AIRPORT, NY US  20.0   20.0   NaN   NaN   \n",
              "1970-01-05  USW00014732  LAGUARDIA AIRPORT, NY US  30.0   10.0   NaN   NaN   \n",
              "\n",
              "            PGTM  PRCP  SNOW  SNWD  ...  WT14  WT15  WT16  WT17  WT18  WT19  \\\n",
              "DATE                                ...                                       \n",
              "1970-01-01   NaN  0.00   0.0   0.0  ...   NaN   NaN   NaN   NaN   NaN   NaN   \n",
              "1970-01-02   NaN  0.00   0.0   0.0  ...   NaN   NaN   NaN   NaN   NaN   NaN   \n",
              "1970-01-03   NaN  0.05   0.4   0.0  ...   NaN   NaN   1.0   NaN   1.0   NaN   \n",
              "1970-01-04   NaN  0.00   0.0   0.0  ...   NaN   NaN   NaN   NaN   NaN   NaN   \n",
              "1970-01-05   NaN  0.00   0.0   0.0  ...   NaN   NaN   NaN   NaN   NaN   NaN   \n",
              "\n",
              "            WT21  WT22  WV01  WV20  \n",
              "DATE                                \n",
              "1970-01-01   NaN   NaN   NaN   NaN  \n",
              "1970-01-02   NaN   NaN   NaN   NaN  \n",
              "1970-01-03   NaN   NaN   NaN   NaN  \n",
              "1970-01-04   NaN   NaN   NaN   NaN  \n",
              "1970-01-05   NaN   NaN   NaN   NaN  \n",
              "\n",
              "[5 rows x 46 columns]"
            ],
            "text/html": [
              "\n",
              "  <div id=\"df-02ad91fe-6170-4086-a2d2-5d99076a38dc\">\n",
              "    <div class=\"colab-df-container\">\n",
              "      <div>\n",
              "<style scoped>\n",
              "    .dataframe tbody tr th:only-of-type {\n",
              "        vertical-align: middle;\n",
              "    }\n",
              "\n",
              "    .dataframe tbody tr th {\n",
              "        vertical-align: top;\n",
              "    }\n",
              "\n",
              "    .dataframe thead th {\n",
              "        text-align: right;\n",
              "    }\n",
              "</style>\n",
              "<table border=\"1\" class=\"dataframe\">\n",
              "  <thead>\n",
              "    <tr style=\"text-align: right;\">\n",
              "      <th></th>\n",
              "      <th>STATION</th>\n",
              "      <th>NAME</th>\n",
              "      <th>ACMH</th>\n",
              "      <th>ACSH</th>\n",
              "      <th>AWND</th>\n",
              "      <th>FMTM</th>\n",
              "      <th>PGTM</th>\n",
              "      <th>PRCP</th>\n",
              "      <th>SNOW</th>\n",
              "      <th>SNWD</th>\n",
              "      <th>...</th>\n",
              "      <th>WT14</th>\n",
              "      <th>WT15</th>\n",
              "      <th>WT16</th>\n",
              "      <th>WT17</th>\n",
              "      <th>WT18</th>\n",
              "      <th>WT19</th>\n",
              "      <th>WT21</th>\n",
              "      <th>WT22</th>\n",
              "      <th>WV01</th>\n",
              "      <th>WV20</th>\n",
              "    </tr>\n",
              "    <tr>\n",
              "      <th>DATE</th>\n",
              "      <th></th>\n",
              "      <th></th>\n",
              "      <th></th>\n",
              "      <th></th>\n",
              "      <th></th>\n",
              "      <th></th>\n",
              "      <th></th>\n",
              "      <th></th>\n",
              "      <th></th>\n",
              "      <th></th>\n",
              "      <th></th>\n",
              "      <th></th>\n",
              "      <th></th>\n",
              "      <th></th>\n",
              "      <th></th>\n",
              "      <th></th>\n",
              "      <th></th>\n",
              "      <th></th>\n",
              "      <th></th>\n",
              "      <th></th>\n",
              "      <th></th>\n",
              "    </tr>\n",
              "  </thead>\n",
              "  <tbody>\n",
              "    <tr>\n",
              "      <th>1970-01-01</th>\n",
              "      <td>USW00014732</td>\n",
              "      <td>LAGUARDIA AIRPORT, NY US</td>\n",
              "      <td>80.0</td>\n",
              "      <td>90.0</td>\n",
              "      <td>NaN</td>\n",
              "      <td>NaN</td>\n",
              "      <td>NaN</td>\n",
              "      <td>0.00</td>\n",
              "      <td>0.0</td>\n",
              "      <td>0.0</td>\n",
              "      <td>...</td>\n",
              "      <td>NaN</td>\n",
              "      <td>NaN</td>\n",
              "      <td>NaN</td>\n",
              "      <td>NaN</td>\n",
              "      <td>NaN</td>\n",
              "      <td>NaN</td>\n",
              "      <td>NaN</td>\n",
              "      <td>NaN</td>\n",
              "      <td>NaN</td>\n",
              "      <td>NaN</td>\n",
              "    </tr>\n",
              "    <tr>\n",
              "      <th>1970-01-02</th>\n",
              "      <td>USW00014732</td>\n",
              "      <td>LAGUARDIA AIRPORT, NY US</td>\n",
              "      <td>20.0</td>\n",
              "      <td>20.0</td>\n",
              "      <td>NaN</td>\n",
              "      <td>NaN</td>\n",
              "      <td>NaN</td>\n",
              "      <td>0.00</td>\n",
              "      <td>0.0</td>\n",
              "      <td>0.0</td>\n",
              "      <td>...</td>\n",
              "      <td>NaN</td>\n",
              "      <td>NaN</td>\n",
              "      <td>NaN</td>\n",
              "      <td>NaN</td>\n",
              "      <td>NaN</td>\n",
              "      <td>NaN</td>\n",
              "      <td>NaN</td>\n",
              "      <td>NaN</td>\n",
              "      <td>NaN</td>\n",
              "      <td>NaN</td>\n",
              "    </tr>\n",
              "    <tr>\n",
              "      <th>1970-01-03</th>\n",
              "      <td>USW00014732</td>\n",
              "      <td>LAGUARDIA AIRPORT, NY US</td>\n",
              "      <td>90.0</td>\n",
              "      <td>100.0</td>\n",
              "      <td>NaN</td>\n",
              "      <td>NaN</td>\n",
              "      <td>NaN</td>\n",
              "      <td>0.05</td>\n",
              "      <td>0.4</td>\n",
              "      <td>0.0</td>\n",
              "      <td>...</td>\n",
              "      <td>NaN</td>\n",
              "      <td>NaN</td>\n",
              "      <td>1.0</td>\n",
              "      <td>NaN</td>\n",
              "      <td>1.0</td>\n",
              "      <td>NaN</td>\n",
              "      <td>NaN</td>\n",
              "      <td>NaN</td>\n",
              "      <td>NaN</td>\n",
              "      <td>NaN</td>\n",
              "    </tr>\n",
              "    <tr>\n",
              "      <th>1970-01-04</th>\n",
              "      <td>USW00014732</td>\n",
              "      <td>LAGUARDIA AIRPORT, NY US</td>\n",
              "      <td>20.0</td>\n",
              "      <td>20.0</td>\n",
              "      <td>NaN</td>\n",
              "      <td>NaN</td>\n",
              "      <td>NaN</td>\n",
              "      <td>0.00</td>\n",
              "      <td>0.0</td>\n",
              "      <td>0.0</td>\n",
              "      <td>...</td>\n",
              "      <td>NaN</td>\n",
              "      <td>NaN</td>\n",
              "      <td>NaN</td>\n",
              "      <td>NaN</td>\n",
              "      <td>NaN</td>\n",
              "      <td>NaN</td>\n",
              "      <td>NaN</td>\n",
              "      <td>NaN</td>\n",
              "      <td>NaN</td>\n",
              "      <td>NaN</td>\n",
              "    </tr>\n",
              "    <tr>\n",
              "      <th>1970-01-05</th>\n",
              "      <td>USW00014732</td>\n",
              "      <td>LAGUARDIA AIRPORT, NY US</td>\n",
              "      <td>30.0</td>\n",
              "      <td>10.0</td>\n",
              "      <td>NaN</td>\n",
              "      <td>NaN</td>\n",
              "      <td>NaN</td>\n",
              "      <td>0.00</td>\n",
              "      <td>0.0</td>\n",
              "      <td>0.0</td>\n",
              "      <td>...</td>\n",
              "      <td>NaN</td>\n",
              "      <td>NaN</td>\n",
              "      <td>NaN</td>\n",
              "      <td>NaN</td>\n",
              "      <td>NaN</td>\n",
              "      <td>NaN</td>\n",
              "      <td>NaN</td>\n",
              "      <td>NaN</td>\n",
              "      <td>NaN</td>\n",
              "      <td>NaN</td>\n",
              "    </tr>\n",
              "  </tbody>\n",
              "</table>\n",
              "<p>5 rows × 46 columns</p>\n",
              "</div>\n",
              "      <button class=\"colab-df-convert\" onclick=\"convertToInteractive('df-02ad91fe-6170-4086-a2d2-5d99076a38dc')\"\n",
              "              title=\"Convert this dataframe to an interactive table.\"\n",
              "              style=\"display:none;\">\n",
              "        \n",
              "  <svg xmlns=\"http://www.w3.org/2000/svg\" height=\"24px\"viewBox=\"0 0 24 24\"\n",
              "       width=\"24px\">\n",
              "    <path d=\"M0 0h24v24H0V0z\" fill=\"none\"/>\n",
              "    <path d=\"M18.56 5.44l.94 2.06.94-2.06 2.06-.94-2.06-.94-.94-2.06-.94 2.06-2.06.94zm-11 1L8.5 8.5l.94-2.06 2.06-.94-2.06-.94L8.5 2.5l-.94 2.06-2.06.94zm10 10l.94 2.06.94-2.06 2.06-.94-2.06-.94-.94-2.06-.94 2.06-2.06.94z\"/><path d=\"M17.41 7.96l-1.37-1.37c-.4-.4-.92-.59-1.43-.59-.52 0-1.04.2-1.43.59L10.3 9.45l-7.72 7.72c-.78.78-.78 2.05 0 2.83L4 21.41c.39.39.9.59 1.41.59.51 0 1.02-.2 1.41-.59l7.78-7.78 2.81-2.81c.8-.78.8-2.07 0-2.86zM5.41 20L4 18.59l7.72-7.72 1.47 1.35L5.41 20z\"/>\n",
              "  </svg>\n",
              "      </button>\n",
              "      \n",
              "  <style>\n",
              "    .colab-df-container {\n",
              "      display:flex;\n",
              "      flex-wrap:wrap;\n",
              "      gap: 12px;\n",
              "    }\n",
              "\n",
              "    .colab-df-convert {\n",
              "      background-color: #E8F0FE;\n",
              "      border: none;\n",
              "      border-radius: 50%;\n",
              "      cursor: pointer;\n",
              "      display: none;\n",
              "      fill: #1967D2;\n",
              "      height: 32px;\n",
              "      padding: 0 0 0 0;\n",
              "      width: 32px;\n",
              "    }\n",
              "\n",
              "    .colab-df-convert:hover {\n",
              "      background-color: #E2EBFA;\n",
              "      box-shadow: 0px 1px 2px rgba(60, 64, 67, 0.3), 0px 1px 3px 1px rgba(60, 64, 67, 0.15);\n",
              "      fill: #174EA6;\n",
              "    }\n",
              "\n",
              "    [theme=dark] .colab-df-convert {\n",
              "      background-color: #3B4455;\n",
              "      fill: #D2E3FC;\n",
              "    }\n",
              "\n",
              "    [theme=dark] .colab-df-convert:hover {\n",
              "      background-color: #434B5C;\n",
              "      box-shadow: 0px 1px 3px 1px rgba(0, 0, 0, 0.15);\n",
              "      filter: drop-shadow(0px 1px 2px rgba(0, 0, 0, 0.3));\n",
              "      fill: #FFFFFF;\n",
              "    }\n",
              "  </style>\n",
              "\n",
              "      <script>\n",
              "        const buttonEl =\n",
              "          document.querySelector('#df-02ad91fe-6170-4086-a2d2-5d99076a38dc button.colab-df-convert');\n",
              "        buttonEl.style.display =\n",
              "          google.colab.kernel.accessAllowed ? 'block' : 'none';\n",
              "\n",
              "        async function convertToInteractive(key) {\n",
              "          const element = document.querySelector('#df-02ad91fe-6170-4086-a2d2-5d99076a38dc');\n",
              "          const dataTable =\n",
              "            await google.colab.kernel.invokeFunction('convertToInteractive',\n",
              "                                                     [key], {});\n",
              "          if (!dataTable) return;\n",
              "\n",
              "          const docLinkHtml = 'Like what you see? Visit the ' +\n",
              "            '<a target=\"_blank\" href=https://colab.research.google.com/notebooks/data_table.ipynb>data table notebook</a>'\n",
              "            + ' to learn more about interactive tables.';\n",
              "          element.innerHTML = '';\n",
              "          dataTable['output_type'] = 'display_data';\n",
              "          await google.colab.output.renderOutput(dataTable, element);\n",
              "          const docLink = document.createElement('div');\n",
              "          docLink.innerHTML = docLinkHtml;\n",
              "          element.appendChild(docLink);\n",
              "        }\n",
              "      </script>\n",
              "    </div>\n",
              "  </div>\n",
              "  "
            ]
          },
          "metadata": {},
          "execution_count": 3
        }
      ],
      "source": [
        "weather.head()"
      ]
    },
    {
      "cell_type": "markdown",
      "source": [
        "#Data cleaning and preparation"
      ],
      "metadata": {
        "id": "uCEtZw-AWv_e"
      },
      "id": "uCEtZw-AWv_e"
    },
    {
      "cell_type": "code",
      "execution_count": 4,
      "id": "6b92c56c-0763-4693-a18d-ff371eedcee2",
      "metadata": {
        "colab": {
          "base_uri": "https://localhost:8080/"
        },
        "id": "6b92c56c-0763-4693-a18d-ff371eedcee2",
        "outputId": "941184e9-8f1a-47ff-bc42-c70f1ceb8a16"
      },
      "outputs": [
        {
          "output_type": "execute_result",
          "data": {
            "text/plain": [
              "STATION    0.000000\n",
              "NAME       0.000000\n",
              "ACMH       0.502175\n",
              "ACSH       0.502149\n",
              "AWND       0.264834\n",
              "FMTM       0.475769\n",
              "PGTM       0.349643\n",
              "PRCP       0.000000\n",
              "SNOW       0.000000\n",
              "SNWD       0.000026\n",
              "TAVG       0.679455\n",
              "TMAX       0.000000\n",
              "TMIN       0.000000\n",
              "TSUN       0.997774\n",
              "WDF1       0.599177\n",
              "WDF2       0.497929\n",
              "WDF5       0.500337\n",
              "WDFG       0.659910\n",
              "WDFM       0.903101\n",
              "WESD       0.683882\n",
              "WSF1       0.599073\n",
              "WSF2       0.497929\n",
              "WSF5       0.500362\n",
              "WSFG       0.599151\n",
              "WSFM       0.903101\n",
              "WT01       0.656208\n",
              "WT02       0.952211\n",
              "WT03       0.931811\n",
              "WT04       0.982267\n",
              "WT05       0.981257\n",
              "WT06       0.990525\n",
              "WT07       0.994641\n",
              "WT08       0.776043\n",
              "WT09       0.994305\n",
              "WT11       0.999146\n",
              "WT13       0.893290\n",
              "WT14       0.955576\n",
              "WT15       0.997825\n",
              "WT16       0.664104\n",
              "WT17       0.996971\n",
              "WT18       0.937610\n",
              "WT19       0.999741\n",
              "WT21       0.999819\n",
              "WT22       0.997437\n",
              "WV01       0.999974\n",
              "WV20       0.999974\n",
              "dtype: float64"
            ]
          },
          "metadata": {},
          "execution_count": 4
        }
      ],
      "source": [
        "null_pct = weather.apply(pd.isnull).sum()/weather.shape[0]\n",
        "null_pct"
      ]
    },
    {
      "cell_type": "code",
      "execution_count": 5,
      "id": "50353966-9cb4-470f-82ce-736fba12a65b",
      "metadata": {
        "id": "50353966-9cb4-470f-82ce-736fba12a65b"
      },
      "outputs": [],
      "source": [
        "valid_columns = weather.columns[null_pct < .05]"
      ]
    },
    {
      "cell_type": "code",
      "execution_count": 6,
      "id": "2a0e07a6-0916-4b1f-a481-5b81b876b9c4",
      "metadata": {
        "colab": {
          "base_uri": "https://localhost:8080/"
        },
        "id": "2a0e07a6-0916-4b1f-a481-5b81b876b9c4",
        "outputId": "5bfe794b-b161-46d6-be34-13f722dde6e0"
      },
      "outputs": [
        {
          "output_type": "execute_result",
          "data": {
            "text/plain": [
              "Index(['STATION', 'NAME', 'PRCP', 'SNOW', 'SNWD', 'TMAX', 'TMIN'], dtype='object')"
            ]
          },
          "metadata": {},
          "execution_count": 6
        }
      ],
      "source": [
        "valid_columns"
      ]
    },
    {
      "cell_type": "code",
      "execution_count": 7,
      "id": "5b501d9a-c57e-4a49-9150-f7c1e34670b6",
      "metadata": {
        "id": "5b501d9a-c57e-4a49-9150-f7c1e34670b6"
      },
      "outputs": [],
      "source": [
        "weather = weather[valid_columns].copy()"
      ]
    },
    {
      "cell_type": "code",
      "execution_count": 8,
      "id": "00c44eb8-4739-4a12-9f6c-7bd4e157c82d",
      "metadata": {
        "id": "00c44eb8-4739-4a12-9f6c-7bd4e157c82d"
      },
      "outputs": [],
      "source": [
        "weather.columns = weather.columns.str.lower()"
      ]
    },
    {
      "cell_type": "code",
      "execution_count": 9,
      "id": "fe4e0908-d644-42e5-b1b9-63435d46eb81",
      "metadata": {
        "colab": {
          "base_uri": "https://localhost:8080/",
          "height": 455
        },
        "id": "fe4e0908-d644-42e5-b1b9-63435d46eb81",
        "outputId": "a3dee05d-b111-4aa4-f741-19feed231ff1"
      },
      "outputs": [
        {
          "output_type": "execute_result",
          "data": {
            "text/plain": [
              "                station                              name  prcp  snow  snwd  \\\n",
              "DATE                                                                          \n",
              "1970-01-01  USW00014732          LAGUARDIA AIRPORT, NY US  0.00   0.0   0.0   \n",
              "1970-01-02  USW00014732          LAGUARDIA AIRPORT, NY US  0.00   0.0   0.0   \n",
              "1970-01-03  USW00014732          LAGUARDIA AIRPORT, NY US  0.05   0.4   0.0   \n",
              "1970-01-04  USW00014732          LAGUARDIA AIRPORT, NY US  0.00   0.0   0.0   \n",
              "1970-01-05  USW00014732          LAGUARDIA AIRPORT, NY US  0.00   0.0   0.0   \n",
              "...                 ...                               ...   ...   ...   ...   \n",
              "2022-11-13  USW00094789  JFK INTERNATIONAL AIRPORT, NY US  0.09   0.0   0.0   \n",
              "2022-11-14  USW00094789  JFK INTERNATIONAL AIRPORT, NY US  0.00   0.0   0.0   \n",
              "2022-11-15  USW00094789  JFK INTERNATIONAL AIRPORT, NY US  0.43   0.0   0.0   \n",
              "2022-11-16  USW00094789  JFK INTERNATIONAL AIRPORT, NY US  0.20   0.0   0.0   \n",
              "2022-11-17  USW00094789  JFK INTERNATIONAL AIRPORT, NY US  0.00   0.0   0.0   \n",
              "\n",
              "            tmax  tmin  \n",
              "DATE                    \n",
              "1970-01-01    28    21  \n",
              "1970-01-02    29    19  \n",
              "1970-01-03    35    26  \n",
              "1970-01-04    30    22  \n",
              "1970-01-05    35    21  \n",
              "...          ...   ...  \n",
              "2022-11-13    61    42  \n",
              "2022-11-14    47    35  \n",
              "2022-11-15    46    33  \n",
              "2022-11-16    53    41  \n",
              "2022-11-17    47    38  \n",
              "\n",
              "[38628 rows x 7 columns]"
            ],
            "text/html": [
              "\n",
              "  <div id=\"df-969520c2-1ec7-4959-881e-36591a854ea7\">\n",
              "    <div class=\"colab-df-container\">\n",
              "      <div>\n",
              "<style scoped>\n",
              "    .dataframe tbody tr th:only-of-type {\n",
              "        vertical-align: middle;\n",
              "    }\n",
              "\n",
              "    .dataframe tbody tr th {\n",
              "        vertical-align: top;\n",
              "    }\n",
              "\n",
              "    .dataframe thead th {\n",
              "        text-align: right;\n",
              "    }\n",
              "</style>\n",
              "<table border=\"1\" class=\"dataframe\">\n",
              "  <thead>\n",
              "    <tr style=\"text-align: right;\">\n",
              "      <th></th>\n",
              "      <th>station</th>\n",
              "      <th>name</th>\n",
              "      <th>prcp</th>\n",
              "      <th>snow</th>\n",
              "      <th>snwd</th>\n",
              "      <th>tmax</th>\n",
              "      <th>tmin</th>\n",
              "    </tr>\n",
              "    <tr>\n",
              "      <th>DATE</th>\n",
              "      <th></th>\n",
              "      <th></th>\n",
              "      <th></th>\n",
              "      <th></th>\n",
              "      <th></th>\n",
              "      <th></th>\n",
              "      <th></th>\n",
              "    </tr>\n",
              "  </thead>\n",
              "  <tbody>\n",
              "    <tr>\n",
              "      <th>1970-01-01</th>\n",
              "      <td>USW00014732</td>\n",
              "      <td>LAGUARDIA AIRPORT, NY US</td>\n",
              "      <td>0.00</td>\n",
              "      <td>0.0</td>\n",
              "      <td>0.0</td>\n",
              "      <td>28</td>\n",
              "      <td>21</td>\n",
              "    </tr>\n",
              "    <tr>\n",
              "      <th>1970-01-02</th>\n",
              "      <td>USW00014732</td>\n",
              "      <td>LAGUARDIA AIRPORT, NY US</td>\n",
              "      <td>0.00</td>\n",
              "      <td>0.0</td>\n",
              "      <td>0.0</td>\n",
              "      <td>29</td>\n",
              "      <td>19</td>\n",
              "    </tr>\n",
              "    <tr>\n",
              "      <th>1970-01-03</th>\n",
              "      <td>USW00014732</td>\n",
              "      <td>LAGUARDIA AIRPORT, NY US</td>\n",
              "      <td>0.05</td>\n",
              "      <td>0.4</td>\n",
              "      <td>0.0</td>\n",
              "      <td>35</td>\n",
              "      <td>26</td>\n",
              "    </tr>\n",
              "    <tr>\n",
              "      <th>1970-01-04</th>\n",
              "      <td>USW00014732</td>\n",
              "      <td>LAGUARDIA AIRPORT, NY US</td>\n",
              "      <td>0.00</td>\n",
              "      <td>0.0</td>\n",
              "      <td>0.0</td>\n",
              "      <td>30</td>\n",
              "      <td>22</td>\n",
              "    </tr>\n",
              "    <tr>\n",
              "      <th>1970-01-05</th>\n",
              "      <td>USW00014732</td>\n",
              "      <td>LAGUARDIA AIRPORT, NY US</td>\n",
              "      <td>0.00</td>\n",
              "      <td>0.0</td>\n",
              "      <td>0.0</td>\n",
              "      <td>35</td>\n",
              "      <td>21</td>\n",
              "    </tr>\n",
              "    <tr>\n",
              "      <th>...</th>\n",
              "      <td>...</td>\n",
              "      <td>...</td>\n",
              "      <td>...</td>\n",
              "      <td>...</td>\n",
              "      <td>...</td>\n",
              "      <td>...</td>\n",
              "      <td>...</td>\n",
              "    </tr>\n",
              "    <tr>\n",
              "      <th>2022-11-13</th>\n",
              "      <td>USW00094789</td>\n",
              "      <td>JFK INTERNATIONAL AIRPORT, NY US</td>\n",
              "      <td>0.09</td>\n",
              "      <td>0.0</td>\n",
              "      <td>0.0</td>\n",
              "      <td>61</td>\n",
              "      <td>42</td>\n",
              "    </tr>\n",
              "    <tr>\n",
              "      <th>2022-11-14</th>\n",
              "      <td>USW00094789</td>\n",
              "      <td>JFK INTERNATIONAL AIRPORT, NY US</td>\n",
              "      <td>0.00</td>\n",
              "      <td>0.0</td>\n",
              "      <td>0.0</td>\n",
              "      <td>47</td>\n",
              "      <td>35</td>\n",
              "    </tr>\n",
              "    <tr>\n",
              "      <th>2022-11-15</th>\n",
              "      <td>USW00094789</td>\n",
              "      <td>JFK INTERNATIONAL AIRPORT, NY US</td>\n",
              "      <td>0.43</td>\n",
              "      <td>0.0</td>\n",
              "      <td>0.0</td>\n",
              "      <td>46</td>\n",
              "      <td>33</td>\n",
              "    </tr>\n",
              "    <tr>\n",
              "      <th>2022-11-16</th>\n",
              "      <td>USW00094789</td>\n",
              "      <td>JFK INTERNATIONAL AIRPORT, NY US</td>\n",
              "      <td>0.20</td>\n",
              "      <td>0.0</td>\n",
              "      <td>0.0</td>\n",
              "      <td>53</td>\n",
              "      <td>41</td>\n",
              "    </tr>\n",
              "    <tr>\n",
              "      <th>2022-11-17</th>\n",
              "      <td>USW00094789</td>\n",
              "      <td>JFK INTERNATIONAL AIRPORT, NY US</td>\n",
              "      <td>0.00</td>\n",
              "      <td>0.0</td>\n",
              "      <td>0.0</td>\n",
              "      <td>47</td>\n",
              "      <td>38</td>\n",
              "    </tr>\n",
              "  </tbody>\n",
              "</table>\n",
              "<p>38628 rows × 7 columns</p>\n",
              "</div>\n",
              "      <button class=\"colab-df-convert\" onclick=\"convertToInteractive('df-969520c2-1ec7-4959-881e-36591a854ea7')\"\n",
              "              title=\"Convert this dataframe to an interactive table.\"\n",
              "              style=\"display:none;\">\n",
              "        \n",
              "  <svg xmlns=\"http://www.w3.org/2000/svg\" height=\"24px\"viewBox=\"0 0 24 24\"\n",
              "       width=\"24px\">\n",
              "    <path d=\"M0 0h24v24H0V0z\" fill=\"none\"/>\n",
              "    <path d=\"M18.56 5.44l.94 2.06.94-2.06 2.06-.94-2.06-.94-.94-2.06-.94 2.06-2.06.94zm-11 1L8.5 8.5l.94-2.06 2.06-.94-2.06-.94L8.5 2.5l-.94 2.06-2.06.94zm10 10l.94 2.06.94-2.06 2.06-.94-2.06-.94-.94-2.06-.94 2.06-2.06.94z\"/><path d=\"M17.41 7.96l-1.37-1.37c-.4-.4-.92-.59-1.43-.59-.52 0-1.04.2-1.43.59L10.3 9.45l-7.72 7.72c-.78.78-.78 2.05 0 2.83L4 21.41c.39.39.9.59 1.41.59.51 0 1.02-.2 1.41-.59l7.78-7.78 2.81-2.81c.8-.78.8-2.07 0-2.86zM5.41 20L4 18.59l7.72-7.72 1.47 1.35L5.41 20z\"/>\n",
              "  </svg>\n",
              "      </button>\n",
              "      \n",
              "  <style>\n",
              "    .colab-df-container {\n",
              "      display:flex;\n",
              "      flex-wrap:wrap;\n",
              "      gap: 12px;\n",
              "    }\n",
              "\n",
              "    .colab-df-convert {\n",
              "      background-color: #E8F0FE;\n",
              "      border: none;\n",
              "      border-radius: 50%;\n",
              "      cursor: pointer;\n",
              "      display: none;\n",
              "      fill: #1967D2;\n",
              "      height: 32px;\n",
              "      padding: 0 0 0 0;\n",
              "      width: 32px;\n",
              "    }\n",
              "\n",
              "    .colab-df-convert:hover {\n",
              "      background-color: #E2EBFA;\n",
              "      box-shadow: 0px 1px 2px rgba(60, 64, 67, 0.3), 0px 1px 3px 1px rgba(60, 64, 67, 0.15);\n",
              "      fill: #174EA6;\n",
              "    }\n",
              "\n",
              "    [theme=dark] .colab-df-convert {\n",
              "      background-color: #3B4455;\n",
              "      fill: #D2E3FC;\n",
              "    }\n",
              "\n",
              "    [theme=dark] .colab-df-convert:hover {\n",
              "      background-color: #434B5C;\n",
              "      box-shadow: 0px 1px 3px 1px rgba(0, 0, 0, 0.15);\n",
              "      filter: drop-shadow(0px 1px 2px rgba(0, 0, 0, 0.3));\n",
              "      fill: #FFFFFF;\n",
              "    }\n",
              "  </style>\n",
              "\n",
              "      <script>\n",
              "        const buttonEl =\n",
              "          document.querySelector('#df-969520c2-1ec7-4959-881e-36591a854ea7 button.colab-df-convert');\n",
              "        buttonEl.style.display =\n",
              "          google.colab.kernel.accessAllowed ? 'block' : 'none';\n",
              "\n",
              "        async function convertToInteractive(key) {\n",
              "          const element = document.querySelector('#df-969520c2-1ec7-4959-881e-36591a854ea7');\n",
              "          const dataTable =\n",
              "            await google.colab.kernel.invokeFunction('convertToInteractive',\n",
              "                                                     [key], {});\n",
              "          if (!dataTable) return;\n",
              "\n",
              "          const docLinkHtml = 'Like what you see? Visit the ' +\n",
              "            '<a target=\"_blank\" href=https://colab.research.google.com/notebooks/data_table.ipynb>data table notebook</a>'\n",
              "            + ' to learn more about interactive tables.';\n",
              "          element.innerHTML = '';\n",
              "          dataTable['output_type'] = 'display_data';\n",
              "          await google.colab.output.renderOutput(dataTable, element);\n",
              "          const docLink = document.createElement('div');\n",
              "          docLink.innerHTML = docLinkHtml;\n",
              "          element.appendChild(docLink);\n",
              "        }\n",
              "      </script>\n",
              "    </div>\n",
              "  </div>\n",
              "  "
            ]
          },
          "metadata": {},
          "execution_count": 9
        }
      ],
      "source": [
        "weather"
      ]
    },
    {
      "cell_type": "code",
      "execution_count": 10,
      "id": "7038663f-d5fa-4e42-a49d-d2354c171e79",
      "metadata": {
        "id": "7038663f-d5fa-4e42-a49d-d2354c171e79"
      },
      "outputs": [],
      "source": [
        "weather = weather.ffill()"
      ]
    },
    {
      "cell_type": "code",
      "execution_count": 11,
      "id": "3724aa95-5028-4f1d-a618-c0f9dcfc639b",
      "metadata": {
        "colab": {
          "base_uri": "https://localhost:8080/"
        },
        "id": "3724aa95-5028-4f1d-a618-c0f9dcfc639b",
        "outputId": "083a24db-6cc2-4d57-871b-6e895694a584"
      },
      "outputs": [
        {
          "output_type": "execute_result",
          "data": {
            "text/plain": [
              "station    0\n",
              "name       0\n",
              "prcp       0\n",
              "snow       0\n",
              "snwd       0\n",
              "tmax       0\n",
              "tmin       0\n",
              "dtype: int64"
            ]
          },
          "metadata": {},
          "execution_count": 11
        }
      ],
      "source": [
        "weather.apply(pd.isnull).sum()"
      ]
    },
    {
      "cell_type": "code",
      "execution_count": 12,
      "id": "81ffdb26-1dc4-4a2d-b78e-6f319c023717",
      "metadata": {
        "colab": {
          "base_uri": "https://localhost:8080/"
        },
        "id": "81ffdb26-1dc4-4a2d-b78e-6f319c023717",
        "outputId": "f92b6bf6-cae5-41af-e9ae-caaaca7adff1"
      },
      "outputs": [
        {
          "output_type": "execute_result",
          "data": {
            "text/plain": [
              "station    0\n",
              "name       0\n",
              "prcp       0\n",
              "snow       0\n",
              "snwd       0\n",
              "tmax       0\n",
              "tmin       0\n",
              "dtype: int64"
            ]
          },
          "metadata": {},
          "execution_count": 12
        }
      ],
      "source": [
        "weather.apply(lambda x: (x == 9999).sum())"
      ]
    },
    {
      "cell_type": "code",
      "execution_count": 13,
      "id": "d3bb0851-92c5-42aa-9f00-227dfa70d341",
      "metadata": {
        "colab": {
          "base_uri": "https://localhost:8080/"
        },
        "id": "d3bb0851-92c5-42aa-9f00-227dfa70d341",
        "outputId": "9a60321c-38d8-4292-d447-93239448ec3e"
      },
      "outputs": [
        {
          "output_type": "execute_result",
          "data": {
            "text/plain": [
              "station     object\n",
              "name        object\n",
              "prcp       float64\n",
              "snow       float64\n",
              "snwd       float64\n",
              "tmax         int64\n",
              "tmin         int64\n",
              "dtype: object"
            ]
          },
          "metadata": {},
          "execution_count": 13
        }
      ],
      "source": [
        "weather.dtypes"
      ]
    },
    {
      "cell_type": "code",
      "execution_count": 14,
      "id": "d46af0b1-664d-4966-9544-18cdc861b1d8",
      "metadata": {
        "colab": {
          "base_uri": "https://localhost:8080/"
        },
        "id": "d46af0b1-664d-4966-9544-18cdc861b1d8",
        "outputId": "7c67aff2-5ed5-4f43-f5f0-7a46d13d399f"
      },
      "outputs": [
        {
          "output_type": "execute_result",
          "data": {
            "text/plain": [
              "Index(['1970-01-01', '1970-01-02', '1970-01-03', '1970-01-04', '1970-01-05',\n",
              "       '1970-01-06', '1970-01-07', '1970-01-08', '1970-01-09', '1970-01-10',\n",
              "       ...\n",
              "       '2022-11-08', '2022-11-09', '2022-11-10', '2022-11-11', '2022-11-12',\n",
              "       '2022-11-13', '2022-11-14', '2022-11-15', '2022-11-16', '2022-11-17'],\n",
              "      dtype='object', name='DATE', length=38628)"
            ]
          },
          "metadata": {},
          "execution_count": 14
        }
      ],
      "source": [
        "weather.index"
      ]
    },
    {
      "cell_type": "code",
      "execution_count": 15,
      "id": "0265ead7-865b-46ae-875c-f4181cd65d81",
      "metadata": {
        "id": "0265ead7-865b-46ae-875c-f4181cd65d81"
      },
      "outputs": [],
      "source": [
        "weather.index = pd.to_datetime(weather.index)"
      ]
    },
    {
      "cell_type": "code",
      "execution_count": 16,
      "id": "558b83ea-776f-4e2f-8612-d94ab3ae5c46",
      "metadata": {
        "colab": {
          "base_uri": "https://localhost:8080/"
        },
        "id": "558b83ea-776f-4e2f-8612-d94ab3ae5c46",
        "outputId": "f4587029-d5a1-449c-f7e5-82f080962bee"
      },
      "outputs": [
        {
          "output_type": "execute_result",
          "data": {
            "text/plain": [
              "1970    730\n",
              "1971    730\n",
              "1972    732\n",
              "1973    730\n",
              "1974    730\n",
              "1975    730\n",
              "1976    732\n",
              "1977    730\n",
              "1978    730\n",
              "1979    730\n",
              "1980    732\n",
              "1981    730\n",
              "1982    730\n",
              "1983    730\n",
              "1984    732\n",
              "1985    730\n",
              "1986    730\n",
              "1987    730\n",
              "1988    732\n",
              "1989    730\n",
              "1990    730\n",
              "1991    730\n",
              "1992    732\n",
              "1993    730\n",
              "1994    730\n",
              "1995    730\n",
              "1996    732\n",
              "1997    730\n",
              "1998    730\n",
              "1999    730\n",
              "2000    732\n",
              "2001    730\n",
              "2002    730\n",
              "2003    730\n",
              "2004    732\n",
              "2005    730\n",
              "2006    730\n",
              "2007    730\n",
              "2008    732\n",
              "2009    730\n",
              "2010    730\n",
              "2011    730\n",
              "2012    732\n",
              "2013    730\n",
              "2014    730\n",
              "2015    730\n",
              "2016    732\n",
              "2017    730\n",
              "2018    730\n",
              "2019    730\n",
              "2020    732\n",
              "2021    730\n",
              "2022    642\n",
              "Name: DATE, dtype: int64"
            ]
          },
          "metadata": {},
          "execution_count": 16
        }
      ],
      "source": [
        "weather.index.year.value_counts().sort_index()"
      ]
    },
    {
      "cell_type": "markdown",
      "source": [
        "**Data Visualization**"
      ],
      "metadata": {
        "id": "-lZpk2W-XWuc"
      },
      "id": "-lZpk2W-XWuc"
    },
    {
      "cell_type": "code",
      "execution_count": 33,
      "id": "99ea1dfc-e2a8-4801-9c9b-7c3e03e00e80",
      "metadata": {
        "colab": {
          "base_uri": "https://localhost:8080/",
          "height": 602
        },
        "id": "99ea1dfc-e2a8-4801-9c9b-7c3e03e00e80",
        "outputId": "8c5100aa-e925-426c-8de1-c92a86c5b0d9"
      },
      "outputs": [
        {
          "output_type": "execute_result",
          "data": {
            "text/plain": [
              "Text(0.5, 1.0, 'Temp min distribution by year')"
            ]
          },
          "metadata": {},
          "execution_count": 33
        },
        {
          "output_type": "display_data",
          "data": {
            "text/plain": [
              "<Figure size 1600x800 with 3 Axes>"
            ],
            "image/png": "[encoded data removed]"
          },
          "metadata": {}
        }
      ],
      "source": [
        "fig, axes = plt.subplots(1,3,figsize = (16,8))\n",
        "\n",
        "sns.lineplot(ax = axes[0], data = weather, x = weather.index.year, y = 'snow')\n",
        "sns.lineplot(ax = axes[1], data = weather, x = weather.index.year,y = 'tmax')\n",
        "sns.lineplot(ax = axes[2], data = weather, x = weather.index.year,y = 'tmin')\n",
        "\n",
        "axes[0].set_title(\"Snow distribution by year\",size = 15,weight = 'heavy')\n",
        "axes[1].set_title(\"Temp max distribution by year\",size = 15,weight = 'heavy')\n",
        "axes[2].set_title(\"Temp min distribution by year\",size = 15,weight = 'heavy')"
      ]
    },
    {
      "cell_type": "code",
      "execution_count": 18,
      "id": "246f310d-ebcf-4421-bf92-4839b228abea",
      "metadata": {
        "id": "246f310d-ebcf-4421-bf92-4839b228abea"
      },
      "outputs": [],
      "source": [
        "weather[\"target\"] = weather.shift(-1)[\"tmax\"]"
      ]
    },
    {
      "cell_type": "code",
      "execution_count": 19,
      "id": "b216b637-7ade-4a35-8171-fa2fe3fce1bc",
      "metadata": {
        "colab": {
          "base_uri": "https://localhost:8080/",
          "height": 455
        },
        "id": "b216b637-7ade-4a35-8171-fa2fe3fce1bc",
        "outputId": "c003f495-a5e0-4733-d9c5-23b1a9938e66"
      },
      "outputs": [
        {
          "output_type": "execute_result",
          "data": {
            "text/plain": [
              "                station                              name  prcp  snow  snwd  \\\n",
              "DATE                                                                          \n",
              "1970-01-01  USW00014732          LAGUARDIA AIRPORT, NY US  0.00   0.0   0.0   \n",
              "1970-01-02  USW00014732          LAGUARDIA AIRPORT, NY US  0.00   0.0   0.0   \n",
              "1970-01-03  USW00014732          LAGUARDIA AIRPORT, NY US  0.05   0.4   0.0   \n",
              "1970-01-04  USW00014732          LAGUARDIA AIRPORT, NY US  0.00   0.0   0.0   \n",
              "1970-01-05  USW00014732          LAGUARDIA AIRPORT, NY US  0.00   0.0   0.0   \n",
              "...                 ...                               ...   ...   ...   ...   \n",
              "2022-11-13  USW00094789  JFK INTERNATIONAL AIRPORT, NY US  0.09   0.0   0.0   \n",
              "2022-11-14  USW00094789  JFK INTERNATIONAL AIRPORT, NY US  0.00   0.0   0.0   \n",
              "2022-11-15  USW00094789  JFK INTERNATIONAL AIRPORT, NY US  0.43   0.0   0.0   \n",
              "2022-11-16  USW00094789  JFK INTERNATIONAL AIRPORT, NY US  0.20   0.0   0.0   \n",
              "2022-11-17  USW00094789  JFK INTERNATIONAL AIRPORT, NY US  0.00   0.0   0.0   \n",
              "\n",
              "            tmax  tmin  target  \n",
              "DATE                            \n",
              "1970-01-01    28    21    29.0  \n",
              "1970-01-02    29    19    35.0  \n",
              "1970-01-03    35    26    30.0  \n",
              "1970-01-04    30    22    35.0  \n",
              "1970-01-05    35    21    35.0  \n",
              "...          ...   ...     ...  \n",
              "2022-11-13    61    42    47.0  \n",
              "2022-11-14    47    35    46.0  \n",
              "2022-11-15    46    33    53.0  \n",
              "2022-11-16    53    41    47.0  \n",
              "2022-11-17    47    38     NaN  \n",
              "\n",
              "[38628 rows x 8 columns]"
            ],
            "text/html": [
              "\n",
              "  <div id=\"df-b5a14344-d0e8-4359-9c70-429007ac5776\">\n",
              "    <div class=\"colab-df-container\">\n",
              "      <div>\n",
              "<style scoped>\n",
              "    .dataframe tbody tr th:only-of-type {\n",
              "        vertical-align: middle;\n",
              "    }\n",
              "\n",
              "    .dataframe tbody tr th {\n",
              "        vertical-align: top;\n",
              "    }\n",
              "\n",
              "    .dataframe thead th {\n",
              "        text-align: right;\n",
              "    }\n",
              "</style>\n",
              "<table border=\"1\" class=\"dataframe\">\n",
              "  <thead>\n",
              "    <tr style=\"text-align: right;\">\n",
              "      <th></th>\n",
              "      <th>station</th>\n",
              "      <th>name</th>\n",
              "      <th>prcp</th>\n",
              "      <th>snow</th>\n",
              "      <th>snwd</th>\n",
              "      <th>tmax</th>\n",
              "      <th>tmin</th>\n",
              "      <th>target</th>\n",
              "    </tr>\n",
              "    <tr>\n",
              "      <th>DATE</th>\n",
              "      <th></th>\n",
              "      <th></th>\n",
              "      <th></th>\n",
              "      <th></th>\n",
              "      <th></th>\n",
              "      <th></th>\n",
              "      <th></th>\n",
              "      <th></th>\n",
              "    </tr>\n",
              "  </thead>\n",
              "  <tbody>\n",
              "    <tr>\n",
              "      <th>1970-01-01</th>\n",
              "      <td>USW00014732</td>\n",
              "      <td>LAGUARDIA AIRPORT, NY US</td>\n",
              "      <td>0.00</td>\n",
              "      <td>0.0</td>\n",
              "      <td>0.0</td>\n",
              "      <td>28</td>\n",
              "      <td>21</td>\n",
              "      <td>29.0</td>\n",
              "    </tr>\n",
              "    <tr>\n",
              "      <th>1970-01-02</th>\n",
              "      <td>USW00014732</td>\n",
              "      <td>LAGUARDIA AIRPORT, NY US</td>\n",
              "      <td>0.00</td>\n",
              "      <td>0.0</td>\n",
              "      <td>0.0</td>\n",
              "      <td>29</td>\n",
              "      <td>19</td>\n",
              "      <td>35.0</td>\n",
              "    </tr>\n",
              "    <tr>\n",
              "      <th>1970-01-03</th>\n",
              "      <td>USW00014732</td>\n",
              "      <td>LAGUARDIA AIRPORT, NY US</td>\n",
              "      <td>0.05</td>\n",
              "      <td>0.4</td>\n",
              "      <td>0.0</td>\n",
              "      <td>35</td>\n",
              "      <td>26</td>\n",
              "      <td>30.0</td>\n",
              "    </tr>\n",
              "    <tr>\n",
              "      <th>1970-01-04</th>\n",
              "      <td>USW00014732</td>\n",
              "      <td>LAGUARDIA AIRPORT, NY US</td>\n",
              "      <td>0.00</td>\n",
              "      <td>0.0</td>\n",
              "      <td>0.0</td>\n",
              "      <td>30</td>\n",
              "      <td>22</td>\n",
              "      <td>35.0</td>\n",
              "    </tr>\n",
              "    <tr>\n",
              "      <th>1970-01-05</th>\n",
              "      <td>USW00014732</td>\n",
              "      <td>LAGUARDIA AIRPORT, NY US</td>\n",
              "      <td>0.00</td>\n",
              "      <td>0.0</td>\n",
              "      <td>0.0</td>\n",
              "      <td>35</td>\n",
              "      <td>21</td>\n",
              "      <td>35.0</td>\n",
              "    </tr>\n",
              "    <tr>\n",
              "      <th>...</th>\n",
              "      <td>...</td>\n",
              "      <td>...</td>\n",
              "      <td>...</td>\n",
              "      <td>...</td>\n",
              "      <td>...</td>\n",
              "      <td>...</td>\n",
              "      <td>...</td>\n",
              "      <td>...</td>\n",
              "    </tr>\n",
              "    <tr>\n",
              "      <th>2022-11-13</th>\n",
              "      <td>USW00094789</td>\n",
              "      <td>JFK INTERNATIONAL AIRPORT, NY US</td>\n",
              "      <td>0.09</td>\n",
              "      <td>0.0</td>\n",
              "      <td>0.0</td>\n",
              "      <td>61</td>\n",
              "      <td>42</td>\n",
              "      <td>47.0</td>\n",
              "    </tr>\n",
              "    <tr>\n",
              "      <th>2022-11-14</th>\n",
              "      <td>USW00094789</td>\n",
              "      <td>JFK INTERNATIONAL AIRPORT, NY US</td>\n",
              "      <td>0.00</td>\n",
              "      <td>0.0</td>\n",
              "      <td>0.0</td>\n",
              "      <td>47</td>\n",
              "      <td>35</td>\n",
              "      <td>46.0</td>\n",
              "    </tr>\n",
              "    <tr>\n",
              "      <th>2022-11-15</th>\n",
              "      <td>USW00094789</td>\n",
              "      <td>JFK INTERNATIONAL AIRPORT, NY US</td>\n",
              "      <td>0.43</td>\n",
              "      <td>0.0</td>\n",
              "      <td>0.0</td>\n",
              "      <td>46</td>\n",
              "      <td>33</td>\n",
              "      <td>53.0</td>\n",
              "    </tr>\n",
              "    <tr>\n",
              "      <th>2022-11-16</th>\n",
              "      <td>USW00094789</td>\n",
              "      <td>JFK INTERNATIONAL AIRPORT, NY US</td>\n",
              "      <td>0.20</td>\n",
              "      <td>0.0</td>\n",
              "      <td>0.0</td>\n",
              "      <td>53</td>\n",
              "      <td>41</td>\n",
              "      <td>47.0</td>\n",
              "    </tr>\n",
              "    <tr>\n",
              "      <th>2022-11-17</th>\n",
              "      <td>USW00094789</td>\n",
              "      <td>JFK INTERNATIONAL AIRPORT, NY US</td>\n",
              "      <td>0.00</td>\n",
              "      <td>0.0</td>\n",
              "      <td>0.0</td>\n",
              "      <td>47</td>\n",
              "      <td>38</td>\n",
              "      <td>NaN</td>\n",
              "    </tr>\n",
              "  </tbody>\n",
              "</table>\n",
              "<p>38628 rows × 8 columns</p>\n",
              "</div>\n",
              "      <button class=\"colab-df-convert\" onclick=\"convertToInteractive('df-b5a14344-d0e8-4359-9c70-429007ac5776')\"\n",
              "              title=\"Convert this dataframe to an interactive table.\"\n",
              "              style=\"display:none;\">\n",
              "        \n",
              "  <svg xmlns=\"http://www.w3.org/2000/svg\" height=\"24px\"viewBox=\"0 0 24 24\"\n",
              "       width=\"24px\">\n",
              "    <path d=\"M0 0h24v24H0V0z\" fill=\"none\"/>\n",
              "    <path d=\"M18.56 5.44l.94 2.06.94-2.06 2.06-.94-2.06-.94-.94-2.06-.94 2.06-2.06.94zm-11 1L8.5 8.5l.94-2.06 2.06-.94-2.06-.94L8.5 2.5l-.94 2.06-2.06.94zm10 10l.94 2.06.94-2.06 2.06-.94-2.06-.94-.94-2.06-.94 2.06-2.06.94z\"/><path d=\"M17.41 7.96l-1.37-1.37c-.4-.4-.92-.59-1.43-.59-.52 0-1.04.2-1.43.59L10.3 9.45l-7.72 7.72c-.78.78-.78 2.05 0 2.83L4 21.41c.39.39.9.59 1.41.59.51 0 1.02-.2 1.41-.59l7.78-7.78 2.81-2.81c.8-.78.8-2.07 0-2.86zM5.41 20L4 18.59l7.72-7.72 1.47 1.35L5.41 20z\"/>\n",
              "  </svg>\n",
              "      </button>\n",
              "      \n",
              "  <style>\n",
              "    .colab-df-container {\n",
              "      display:flex;\n",
              "      flex-wrap:wrap;\n",
              "      gap: 12px;\n",
              "    }\n",
              "\n",
              "    .colab-df-convert {\n",
              "      background-color: #E8F0FE;\n",
              "      border: none;\n",
              "      border-radius: 50%;\n",
              "      cursor: pointer;\n",
              "      display: none;\n",
              "      fill: #1967D2;\n",
              "      height: 32px;\n",
              "      padding: 0 0 0 0;\n",
              "      width: 32px;\n",
              "    }\n",
              "\n",
              "    .colab-df-convert:hover {\n",
              "      background-color: #E2EBFA;\n",
              "      box-shadow: 0px 1px 2px rgba(60, 64, 67, 0.3), 0px 1px 3px 1px rgba(60, 64, 67, 0.15);\n",
              "      fill: #174EA6;\n",
              "    }\n",
              "\n",
              "    [theme=dark] .colab-df-convert {\n",
              "      background-color: #3B4455;\n",
              "      fill: #D2E3FC;\n",
              "    }\n",
              "\n",
              "    [theme=dark] .colab-df-convert:hover {\n",
              "      background-color: #434B5C;\n",
              "      box-shadow: 0px 1px 3px 1px rgba(0, 0, 0, 0.15);\n",
              "      filter: drop-shadow(0px 1px 2px rgba(0, 0, 0, 0.3));\n",
              "      fill: #FFFFFF;\n",
              "    }\n",
              "  </style>\n",
              "\n",
              "      <script>\n",
              "        const buttonEl =\n",
              "          document.querySelector('#df-b5a14344-d0e8-4359-9c70-429007ac5776 button.colab-df-convert');\n",
              "        buttonEl.style.display =\n",
              "          google.colab.kernel.accessAllowed ? 'block' : 'none';\n",
              "\n",
              "        async function convertToInteractive(key) {\n",
              "          const element = document.querySelector('#df-b5a14344-d0e8-4359-9c70-429007ac5776');\n",
              "          const dataTable =\n",
              "            await google.colab.kernel.invokeFunction('convertToInteractive',\n",
              "                                                     [key], {});\n",
              "          if (!dataTable) return;\n",
              "\n",
              "          const docLinkHtml = 'Like what you see? Visit the ' +\n",
              "            '<a target=\"_blank\" href=https://colab.research.google.com/notebooks/data_table.ipynb>data table notebook</a>'\n",
              "            + ' to learn more about interactive tables.';\n",
              "          element.innerHTML = '';\n",
              "          dataTable['output_type'] = 'display_data';\n",
              "          await google.colab.output.renderOutput(dataTable, element);\n",
              "          const docLink = document.createElement('div');\n",
              "          docLink.innerHTML = docLinkHtml;\n",
              "          element.appendChild(docLink);\n",
              "        }\n",
              "      </script>\n",
              "    </div>\n",
              "  </div>\n",
              "  "
            ]
          },
          "metadata": {},
          "execution_count": 19
        }
      ],
      "source": [
        "weather"
      ]
    },
    {
      "cell_type": "code",
      "execution_count": 20,
      "id": "b66b7be4-b085-4e85-b90f-25464b5d1c2b",
      "metadata": {
        "id": "b66b7be4-b085-4e85-b90f-25464b5d1c2b"
      },
      "outputs": [],
      "source": [
        "weather = weather.ffill()"
      ]
    },
    {
      "cell_type": "code",
      "execution_count": 21,
      "id": "21bd450d-54f4-44da-895f-532af1b3c03a",
      "metadata": {
        "colab": {
          "base_uri": "https://localhost:8080/",
          "height": 455
        },
        "id": "21bd450d-54f4-44da-895f-532af1b3c03a",
        "outputId": "b5e3c0f0-a6b8-42c0-c86c-7ca889322e7c"
      },
      "outputs": [
        {
          "output_type": "execute_result",
          "data": {
            "text/plain": [
              "                station                              name  prcp  snow  snwd  \\\n",
              "DATE                                                                          \n",
              "1970-01-01  USW00014732          LAGUARDIA AIRPORT, NY US  0.00   0.0   0.0   \n",
              "1970-01-02  USW00014732          LAGUARDIA AIRPORT, NY US  0.00   0.0   0.0   \n",
              "1970-01-03  USW00014732          LAGUARDIA AIRPORT, NY US  0.05   0.4   0.0   \n",
              "1970-01-04  USW00014732          LAGUARDIA AIRPORT, NY US  0.00   0.0   0.0   \n",
              "1970-01-05  USW00014732          LAGUARDIA AIRPORT, NY US  0.00   0.0   0.0   \n",
              "...                 ...                               ...   ...   ...   ...   \n",
              "2022-11-13  USW00094789  JFK INTERNATIONAL AIRPORT, NY US  0.09   0.0   0.0   \n",
              "2022-11-14  USW00094789  JFK INTERNATIONAL AIRPORT, NY US  0.00   0.0   0.0   \n",
              "2022-11-15  USW00094789  JFK INTERNATIONAL AIRPORT, NY US  0.43   0.0   0.0   \n",
              "2022-11-16  USW00094789  JFK INTERNATIONAL AIRPORT, NY US  0.20   0.0   0.0   \n",
              "2022-11-17  USW00094789  JFK INTERNATIONAL AIRPORT, NY US  0.00   0.0   0.0   \n",
              "\n",
              "            tmax  tmin  target  \n",
              "DATE                            \n",
              "1970-01-01    28    21    29.0  \n",
              "1970-01-02    29    19    35.0  \n",
              "1970-01-03    35    26    30.0  \n",
              "1970-01-04    30    22    35.0  \n",
              "1970-01-05    35    21    35.0  \n",
              "...          ...   ...     ...  \n",
              "2022-11-13    61    42    47.0  \n",
              "2022-11-14    47    35    46.0  \n",
              "2022-11-15    46    33    53.0  \n",
              "2022-11-16    53    41    47.0  \n",
              "2022-11-17    47    38    47.0  \n",
              "\n",
              "[38628 rows x 8 columns]"
            ],
            "text/html": [
              "\n",
              "  <div id=\"df-d497a269-9032-4550-944a-e9872c9cde97\">\n",
              "    <div class=\"colab-df-container\">\n",
              "      <div>\n",
              "<style scoped>\n",
              "    .dataframe tbody tr th:only-of-type {\n",
              "        vertical-align: middle;\n",
              "    }\n",
              "\n",
              "    .dataframe tbody tr th {\n",
              "        vertical-align: top;\n",
              "    }\n",
              "\n",
              "    .dataframe thead th {\n",
              "        text-align: right;\n",
              "    }\n",
              "</style>\n",
              "<table border=\"1\" class=\"dataframe\">\n",
              "  <thead>\n",
              "    <tr style=\"text-align: right;\">\n",
              "      <th></th>\n",
              "      <th>station</th>\n",
              "      <th>name</th>\n",
              "      <th>prcp</th>\n",
              "      <th>snow</th>\n",
              "      <th>snwd</th>\n",
              "      <th>tmax</th>\n",
              "      <th>tmin</th>\n",
              "      <th>target</th>\n",
              "    </tr>\n",
              "    <tr>\n",
              "      <th>DATE</th>\n",
              "      <th></th>\n",
              "      <th></th>\n",
              "      <th></th>\n",
              "      <th></th>\n",
              "      <th></th>\n",
              "      <th></th>\n",
              "      <th></th>\n",
              "      <th></th>\n",
              "    </tr>\n",
              "  </thead>\n",
              "  <tbody>\n",
              "    <tr>\n",
              "      <th>1970-01-01</th>\n",
              "      <td>USW00014732</td>\n",
              "      <td>LAGUARDIA AIRPORT, NY US</td>\n",
              "      <td>0.00</td>\n",
              "      <td>0.0</td>\n",
              "      <td>0.0</td>\n",
              "      <td>28</td>\n",
              "      <td>21</td>\n",
              "      <td>29.0</td>\n",
              "    </tr>\n",
              "    <tr>\n",
              "      <th>1970-01-02</th>\n",
              "      <td>USW00014732</td>\n",
              "      <td>LAGUARDIA AIRPORT, NY US</td>\n",
              "      <td>0.00</td>\n",
              "      <td>0.0</td>\n",
              "      <td>0.0</td>\n",
              "      <td>29</td>\n",
              "      <td>19</td>\n",
              "      <td>35.0</td>\n",
              "    </tr>\n",
              "    <tr>\n",
              "      <th>1970-01-03</th>\n",
              "      <td>USW00014732</td>\n",
              "      <td>LAGUARDIA AIRPORT, NY US</td>\n",
              "      <td>0.05</td>\n",
              "      <td>0.4</td>\n",
              "      <td>0.0</td>\n",
              "      <td>35</td>\n",
              "      <td>26</td>\n",
              "      <td>30.0</td>\n",
              "    </tr>\n",
              "    <tr>\n",
              "      <th>1970-01-04</th>\n",
              "      <td>USW00014732</td>\n",
              "      <td>LAGUARDIA AIRPORT, NY US</td>\n",
              "      <td>0.00</td>\n",
              "      <td>0.0</td>\n",
              "      <td>0.0</td>\n",
              "      <td>30</td>\n",
              "      <td>22</td>\n",
              "      <td>35.0</td>\n",
              "    </tr>\n",
              "    <tr>\n",
              "      <th>1970-01-05</th>\n",
              "      <td>USW00014732</td>\n",
              "      <td>LAGUARDIA AIRPORT, NY US</td>\n",
              "      <td>0.00</td>\n",
              "      <td>0.0</td>\n",
              "      <td>0.0</td>\n",
              "      <td>35</td>\n",
              "      <td>21</td>\n",
              "      <td>35.0</td>\n",
              "    </tr>\n",
              "    <tr>\n",
              "      <th>...</th>\n",
              "      <td>...</td>\n",
              "      <td>...</td>\n",
              "      <td>...</td>\n",
              "      <td>...</td>\n",
              "      <td>...</td>\n",
              "      <td>...</td>\n",
              "      <td>...</td>\n",
              "      <td>...</td>\n",
              "    </tr>\n",
              "    <tr>\n",
              "      <th>2022-11-13</th>\n",
              "      <td>USW00094789</td>\n",
              "      <td>JFK INTERNATIONAL AIRPORT, NY US</td>\n",
              "      <td>0.09</td>\n",
              "      <td>0.0</td>\n",
              "      <td>0.0</td>\n",
              "      <td>61</td>\n",
              "      <td>42</td>\n",
              "      <td>47.0</td>\n",
              "    </tr>\n",
              "    <tr>\n",
              "      <th>2022-11-14</th>\n",
              "      <td>USW00094789</td>\n",
              "      <td>JFK INTERNATIONAL AIRPORT, NY US</td>\n",
              "      <td>0.00</td>\n",
              "      <td>0.0</td>\n",
              "      <td>0.0</td>\n",
              "      <td>47</td>\n",
              "      <td>35</td>\n",
              "      <td>46.0</td>\n",
              "    </tr>\n",
              "    <tr>\n",
              "      <th>2022-11-15</th>\n",
              "      <td>USW00094789</td>\n",
              "      <td>JFK INTERNATIONAL AIRPORT, NY US</td>\n",
              "      <td>0.43</td>\n",
              "      <td>0.0</td>\n",
              "      <td>0.0</td>\n",
              "      <td>46</td>\n",
              "      <td>33</td>\n",
              "      <td>53.0</td>\n",
              "    </tr>\n",
              "    <tr>\n",
              "      <th>2022-11-16</th>\n",
              "      <td>USW00094789</td>\n",
              "      <td>JFK INTERNATIONAL AIRPORT, NY US</td>\n",
              "      <td>0.20</td>\n",
              "      <td>0.0</td>\n",
              "      <td>0.0</td>\n",
              "      <td>53</td>\n",
              "      <td>41</td>\n",
              "      <td>47.0</td>\n",
              "    </tr>\n",
              "    <tr>\n",
              "      <th>2022-11-17</th>\n",
              "      <td>USW00094789</td>\n",
              "      <td>JFK INTERNATIONAL AIRPORT, NY US</td>\n",
              "      <td>0.00</td>\n",
              "      <td>0.0</td>\n",
              "      <td>0.0</td>\n",
              "      <td>47</td>\n",
              "      <td>38</td>\n",
              "      <td>47.0</td>\n",
              "    </tr>\n",
              "  </tbody>\n",
              "</table>\n",
              "<p>38628 rows × 8 columns</p>\n",
              "</div>\n",
              "      <button class=\"colab-df-convert\" onclick=\"convertToInteractive('df-d497a269-9032-4550-944a-e9872c9cde97')\"\n",
              "              title=\"Convert this dataframe to an interactive table.\"\n",
              "              style=\"display:none;\">\n",
              "        \n",
              "  <svg xmlns=\"http://www.w3.org/2000/svg\" height=\"24px\"viewBox=\"0 0 24 24\"\n",
              "       width=\"24px\">\n",
              "    <path d=\"M0 0h24v24H0V0z\" fill=\"none\"/>\n",
              "    <path d=\"M18.56 5.44l.94 2.06.94-2.06 2.06-.94-2.06-.94-.94-2.06-.94 2.06-2.06.94zm-11 1L8.5 8.5l.94-2.06 2.06-.94-2.06-.94L8.5 2.5l-.94 2.06-2.06.94zm10 10l.94 2.06.94-2.06 2.06-.94-2.06-.94-.94-2.06-.94 2.06-2.06.94z\"/><path d=\"M17.41 7.96l-1.37-1.37c-.4-.4-.92-.59-1.43-.59-.52 0-1.04.2-1.43.59L10.3 9.45l-7.72 7.72c-.78.78-.78 2.05 0 2.83L4 21.41c.39.39.9.59 1.41.59.51 0 1.02-.2 1.41-.59l7.78-7.78 2.81-2.81c.8-.78.8-2.07 0-2.86zM5.41 20L4 18.59l7.72-7.72 1.47 1.35L5.41 20z\"/>\n",
              "  </svg>\n",
              "      </button>\n",
              "      \n",
              "  <style>\n",
              "    .colab-df-container {\n",
              "      display:flex;\n",
              "      flex-wrap:wrap;\n",
              "      gap: 12px;\n",
              "    }\n",
              "\n",
              "    .colab-df-convert {\n",
              "      background-color: #E8F0FE;\n",
              "      border: none;\n",
              "      border-radius: 50%;\n",
              "      cursor: pointer;\n",
              "      display: none;\n",
              "      fill: #1967D2;\n",
              "      height: 32px;\n",
              "      padding: 0 0 0 0;\n",
              "      width: 32px;\n",
              "    }\n",
              "\n",
              "    .colab-df-convert:hover {\n",
              "      background-color: #E2EBFA;\n",
              "      box-shadow: 0px 1px 2px rgba(60, 64, 67, 0.3), 0px 1px 3px 1px rgba(60, 64, 67, 0.15);\n",
              "      fill: #174EA6;\n",
              "    }\n",
              "\n",
              "    [theme=dark] .colab-df-convert {\n",
              "      background-color: #3B4455;\n",
              "      fill: #D2E3FC;\n",
              "    }\n",
              "\n",
              "    [theme=dark] .colab-df-convert:hover {\n",
              "      background-color: #434B5C;\n",
              "      box-shadow: 0px 1px 3px 1px rgba(0, 0, 0, 0.15);\n",
              "      filter: drop-shadow(0px 1px 2px rgba(0, 0, 0, 0.3));\n",
              "      fill: #FFFFFF;\n",
              "    }\n",
              "  </style>\n",
              "\n",
              "      <script>\n",
              "        const buttonEl =\n",
              "          document.querySelector('#df-d497a269-9032-4550-944a-e9872c9cde97 button.colab-df-convert');\n",
              "        buttonEl.style.display =\n",
              "          google.colab.kernel.accessAllowed ? 'block' : 'none';\n",
              "\n",
              "        async function convertToInteractive(key) {\n",
              "          const element = document.querySelector('#df-d497a269-9032-4550-944a-e9872c9cde97');\n",
              "          const dataTable =\n",
              "            await google.colab.kernel.invokeFunction('convertToInteractive',\n",
              "                                                     [key], {});\n",
              "          if (!dataTable) return;\n",
              "\n",
              "          const docLinkHtml = 'Like what you see? Visit the ' +\n",
              "            '<a target=\"_blank\" href=https://colab.research.google.com/notebooks/data_table.ipynb>data table notebook</a>'\n",
              "            + ' to learn more about interactive tables.';\n",
              "          element.innerHTML = '';\n",
              "          dataTable['output_type'] = 'display_data';\n",
              "          await google.colab.output.renderOutput(dataTable, element);\n",
              "          const docLink = document.createElement('div');\n",
              "          docLink.innerHTML = docLinkHtml;\n",
              "          element.appendChild(docLink);\n",
              "        }\n",
              "      </script>\n",
              "    </div>\n",
              "  </div>\n",
              "  "
            ]
          },
          "metadata": {},
          "execution_count": 21
        }
      ],
      "source": [
        "weather"
      ]
    },
    {
      "cell_type": "markdown",
      "source": [
        "**Importing libraries for our model**"
      ],
      "metadata": {
        "id": "mHbyn7-OXr7k"
      },
      "id": "mHbyn7-OXr7k"
    },
    {
      "cell_type": "code",
      "execution_count": 22,
      "id": "f4a750d2-f0b2-478b-aa2f-c08af5e8980d",
      "metadata": {
        "id": "f4a750d2-f0b2-478b-aa2f-c08af5e8980d"
      },
      "outputs": [],
      "source": [
        "from sklearn.linear_model import Ridge\n",
        "\n",
        "rr = Ridge(alpha=.1)"
      ]
    },
    {
      "cell_type": "code",
      "execution_count": 23,
      "id": "e0b1af93-9235-4b4c-bc32-f0aa5fac7b7d",
      "metadata": {
        "id": "e0b1af93-9235-4b4c-bc32-f0aa5fac7b7d"
      },
      "outputs": [],
      "source": [
        "predictors = weather.columns[~weather.columns.isin([\"target\", \"name\", \"station\"])]"
      ]
    },
    {
      "cell_type": "markdown",
      "source": [
        "#First model"
      ],
      "metadata": {
        "id": "-uv1s4jiX-dF"
      },
      "id": "-uv1s4jiX-dF"
    },
    {
      "cell_type": "code",
      "execution_count": 24,
      "id": "e3746963-9a97-4ba5-a7e8-670dc930de43",
      "metadata": {
        "id": "e3746963-9a97-4ba5-a7e8-670dc930de43"
      },
      "outputs": [],
      "source": [
        "def backtest(weather, model, predictors, start=3650, step=90):\n",
        "    all_predictions = []\n",
        "    \n",
        "    for i in range(start, weather.shape[0], step):\n",
        "        train = weather.iloc[:i,:]\n",
        "        test = weather.iloc[i:(i+step),:]\n",
        "        \n",
        "        model.fit(train[predictors], train[\"target\"])\n",
        "        \n",
        "        preds = model.predict(test[predictors])\n",
        "        preds = pd.Series(preds, index=test.index)\n",
        "        combined = pd.concat([test[\"target\"], preds], axis=1)\n",
        "        combined.columns = [\"actual\", \"prediction\"]\n",
        "        combined[\"diff\"] = (combined[\"prediction\"] - combined[\"actual\"]).abs()\n",
        "        \n",
        "        all_predictions.append(combined)\n",
        "    return pd.concat(all_predictions)"
      ]
    },
    {
      "cell_type": "code",
      "execution_count": 25,
      "id": "85ec72f5-4019-465e-ba12-e3dfe63175eb",
      "metadata": {
        "id": "85ec72f5-4019-465e-ba12-e3dfe63175eb"
      },
      "outputs": [],
      "source": [
        "predictions = backtest(weather, rr, predictors)"
      ]
    },
    {
      "cell_type": "code",
      "execution_count": 26,
      "id": "6ef8265b-ed34-4084-b938-045c7c574172",
      "metadata": {
        "colab": {
          "base_uri": "https://localhost:8080/"
        },
        "id": "6ef8265b-ed34-4084-b938-045c7c574172",
        "outputId": "fd59661d-983c-4ebb-8d09-fe20e2c540b9"
      },
      "outputs": [
        {
          "output_type": "execute_result",
          "data": {
            "text/plain": [
              "5.32361855380997"
            ]
          },
          "metadata": {},
          "execution_count": 26
        }
      ],
      "source": [
        "from sklearn.metrics import mean_absolute_error, mean_squared_error\n",
        "\n",
        "mean_absolute_error(predictions[\"actual\"], predictions[\"prediction\"])"
      ]
    },
    {
      "cell_type": "code",
      "execution_count": 27,
      "id": "5073ff62-3dd2-4148-b6e1-03640782ae62",
      "metadata": {
        "colab": {
          "base_uri": "https://localhost:8080/",
          "height": 455
        },
        "id": "5073ff62-3dd2-4148-b6e1-03640782ae62",
        "outputId": "ca59f0fc-4b34-4aea-a081-296293d8892c"
      },
      "outputs": [
        {
          "output_type": "execute_result",
          "data": {
            "text/plain": [
              "            actual  prediction       diff\n",
              "DATE                                     \n",
              "1977-04-11    90.0   50.341915  39.658085\n",
              "1994-01-27    56.0   21.915387  34.084613\n",
              "2014-04-30    77.0   44.609946  32.390054\n",
              "1990-03-12    83.0   52.891214  30.108786\n",
              "1994-01-16    45.0   16.205939  28.794061\n",
              "...            ...         ...        ...\n",
              "2005-05-22    64.0   64.000955   0.000955\n",
              "1993-12-30    32.0   31.999247   0.000753\n",
              "1985-01-09    29.0   28.999299   0.000701\n",
              "1999-04-18    60.0   60.000522   0.000522\n",
              "1991-09-24    72.0   72.000060   0.000060\n",
              "\n",
              "[34978 rows x 3 columns]"
            ],
            "text/html": [
              "\n",
              "  <div id=\"df-aea28366-7736-4448-b6af-77f434b1149c\">\n",
              "    <div class=\"colab-df-container\">\n",
              "      <div>\n",
              "<style scoped>\n",
              "    .dataframe tbody tr th:only-of-type {\n",
              "        vertical-align: middle;\n",
              "    }\n",
              "\n",
              "    .dataframe tbody tr th {\n",
              "        vertical-align: top;\n",
              "    }\n",
              "\n",
              "    .dataframe thead th {\n",
              "        text-align: right;\n",
              "    }\n",
              "</style>\n",
              "<table border=\"1\" class=\"dataframe\">\n",
              "  <thead>\n",
              "    <tr style=\"text-align: right;\">\n",
              "      <th></th>\n",
              "      <th>actual</th>\n",
              "      <th>prediction</th>\n",
              "      <th>diff</th>\n",
              "    </tr>\n",
              "    <tr>\n",
              "      <th>DATE</th>\n",
              "      <th></th>\n",
              "      <th></th>\n",
              "      <th></th>\n",
              "    </tr>\n",
              "  </thead>\n",
              "  <tbody>\n",
              "    <tr>\n",
              "      <th>1977-04-11</th>\n",
              "      <td>90.0</td>\n",
              "      <td>50.341915</td>\n",
              "      <td>39.658085</td>\n",
              "    </tr>\n",
              "    <tr>\n",
              "      <th>1994-01-27</th>\n",
              "      <td>56.0</td>\n",
              "      <td>21.915387</td>\n",
              "      <td>34.084613</td>\n",
              "    </tr>\n",
              "    <tr>\n",
              "      <th>2014-04-30</th>\n",
              "      <td>77.0</td>\n",
              "      <td>44.609946</td>\n",
              "      <td>32.390054</td>\n",
              "    </tr>\n",
              "    <tr>\n",
              "      <th>1990-03-12</th>\n",
              "      <td>83.0</td>\n",
              "      <td>52.891214</td>\n",
              "      <td>30.108786</td>\n",
              "    </tr>\n",
              "    <tr>\n",
              "      <th>1994-01-16</th>\n",
              "      <td>45.0</td>\n",
              "      <td>16.205939</td>\n",
              "      <td>28.794061</td>\n",
              "    </tr>\n",
              "    <tr>\n",
              "      <th>...</th>\n",
              "      <td>...</td>\n",
              "      <td>...</td>\n",
              "      <td>...</td>\n",
              "    </tr>\n",
              "    <tr>\n",
              "      <th>2005-05-22</th>\n",
              "      <td>64.0</td>\n",
              "      <td>64.000955</td>\n",
              "      <td>0.000955</td>\n",
              "    </tr>\n",
              "    <tr>\n",
              "      <th>1993-12-30</th>\n",
              "      <td>32.0</td>\n",
              "      <td>31.999247</td>\n",
              "      <td>0.000753</td>\n",
              "    </tr>\n",
              "    <tr>\n",
              "      <th>1985-01-09</th>\n",
              "      <td>29.0</td>\n",
              "      <td>28.999299</td>\n",
              "      <td>0.000701</td>\n",
              "    </tr>\n",
              "    <tr>\n",
              "      <th>1999-04-18</th>\n",
              "      <td>60.0</td>\n",
              "      <td>60.000522</td>\n",
              "      <td>0.000522</td>\n",
              "    </tr>\n",
              "    <tr>\n",
              "      <th>1991-09-24</th>\n",
              "      <td>72.0</td>\n",
              "      <td>72.000060</td>\n",
              "      <td>0.000060</td>\n",
              "    </tr>\n",
              "  </tbody>\n",
              "</table>\n",
              "<p>34978 rows × 3 columns</p>\n",
              "</div>\n",
              "      <button class=\"colab-df-convert\" onclick=\"convertToInteractive('df-aea28366-7736-4448-b6af-77f434b1149c')\"\n",
              "              title=\"Convert this dataframe to an interactive table.\"\n",
              "              style=\"display:none;\">\n",
              "        \n",
              "  <svg xmlns=\"http://www.w3.org/2000/svg\" height=\"24px\"viewBox=\"0 0 24 24\"\n",
              "       width=\"24px\">\n",
              "    <path d=\"M0 0h24v24H0V0z\" fill=\"none\"/>\n",
              "    <path d=\"M18.56 5.44l.94 2.06.94-2.06 2.06-.94-2.06-.94-.94-2.06-.94 2.06-2.06.94zm-11 1L8.5 8.5l.94-2.06 2.06-.94-2.06-.94L8.5 2.5l-.94 2.06-2.06.94zm10 10l.94 2.06.94-2.06 2.06-.94-2.06-.94-.94-2.06-.94 2.06-2.06.94z\"/><path d=\"M17.41 7.96l-1.37-1.37c-.4-.4-.92-.59-1.43-.59-.52 0-1.04.2-1.43.59L10.3 9.45l-7.72 7.72c-.78.78-.78 2.05 0 2.83L4 21.41c.39.39.9.59 1.41.59.51 0 1.02-.2 1.41-.59l7.78-7.78 2.81-2.81c.8-.78.8-2.07 0-2.86zM5.41 20L4 18.59l7.72-7.72 1.47 1.35L5.41 20z\"/>\n",
              "  </svg>\n",
              "      </button>\n",
              "      \n",
              "  <style>\n",
              "    .colab-df-container {\n",
              "      display:flex;\n",
              "      flex-wrap:wrap;\n",
              "      gap: 12px;\n",
              "    }\n",
              "\n",
              "    .colab-df-convert {\n",
              "      background-color: #E8F0FE;\n",
              "      border: none;\n",
              "      border-radius: 50%;\n",
              "      cursor: pointer;\n",
              "      display: none;\n",
              "      fill: #1967D2;\n",
              "      height: 32px;\n",
              "      padding: 0 0 0 0;\n",
              "      width: 32px;\n",
              "    }\n",
              "\n",
              "    .colab-df-convert:hover {\n",
              "      background-color: #E2EBFA;\n",
              "      box-shadow: 0px 1px 2px rgba(60, 64, 67, 0.3), 0px 1px 3px 1px rgba(60, 64, 67, 0.15);\n",
              "      fill: #174EA6;\n",
              "    }\n",
              "\n",
              "    [theme=dark] .colab-df-convert {\n",
              "      background-color: #3B4455;\n",
              "      fill: #D2E3FC;\n",
              "    }\n",
              "\n",
              "    [theme=dark] .colab-df-convert:hover {\n",
              "      background-color: #434B5C;\n",
              "      box-shadow: 0px 1px 3px 1px rgba(0, 0, 0, 0.15);\n",
              "      filter: drop-shadow(0px 1px 2px rgba(0, 0, 0, 0.3));\n",
              "      fill: #FFFFFF;\n",
              "    }\n",
              "  </style>\n",
              "\n",
              "      <script>\n",
              "        const buttonEl =\n",
              "          document.querySelector('#df-aea28366-7736-4448-b6af-77f434b1149c button.colab-df-convert');\n",
              "        buttonEl.style.display =\n",
              "          google.colab.kernel.accessAllowed ? 'block' : 'none';\n",
              "\n",
              "        async function convertToInteractive(key) {\n",
              "          const element = document.querySelector('#df-aea28366-7736-4448-b6af-77f434b1149c');\n",
              "          const dataTable =\n",
              "            await google.colab.kernel.invokeFunction('convertToInteractive',\n",
              "                                                     [key], {});\n",
              "          if (!dataTable) return;\n",
              "\n",
              "          const docLinkHtml = 'Like what you see? Visit the ' +\n",
              "            '<a target=\"_blank\" href=https://colab.research.google.com/notebooks/data_table.ipynb>data table notebook</a>'\n",
              "            + ' to learn more about interactive tables.';\n",
              "          element.innerHTML = '';\n",
              "          dataTable['output_type'] = 'display_data';\n",
              "          await google.colab.output.renderOutput(dataTable, element);\n",
              "          const docLink = document.createElement('div');\n",
              "          docLink.innerHTML = docLinkHtml;\n",
              "          element.appendChild(docLink);\n",
              "        }\n",
              "      </script>\n",
              "    </div>\n",
              "  </div>\n",
              "  "
            ]
          },
          "metadata": {},
          "execution_count": 27
        }
      ],
      "source": [
        "predictions.sort_values(\"diff\", ascending=False)"
      ]
    },
    {
      "cell_type": "markdown",
      "source": [
        "#Let's upgrade it"
      ],
      "metadata": {
        "id": "qHkgEhV_YBW1"
      },
      "id": "qHkgEhV_YBW1"
    },
    {
      "cell_type": "code",
      "execution_count": 28,
      "id": "0f5af9ae-8306-4814-85a3-0e98642ded85",
      "metadata": {
        "colab": {
          "base_uri": "https://localhost:8080/"
        },
        "id": "0f5af9ae-8306-4814-85a3-0e98642ded85",
        "outputId": "a07e6faf-f4eb-4165-b864-86e670a99aea"
      },
      "outputs": [
        {
          "output_type": "execute_result",
          "data": {
            "text/plain": [
              "prcp   -1.365862\n",
              "snow   -0.335672\n",
              "snwd    0.059205\n",
              "tmax    0.452233\n",
              "tmin    0.518670\n",
              "dtype: float64"
            ]
          },
          "metadata": {},
          "execution_count": 28
        }
      ],
      "source": [
        "pd.Series(rr.coef_, index=predictors)"
      ]
    },
    {
      "cell_type": "code",
      "execution_count": 29,
      "id": "6af4f22a-a9a9-4b65-8d49-3365da48b8ec",
      "metadata": {
        "id": "6af4f22a-a9a9-4b65-8d49-3365da48b8ec"
      },
      "outputs": [],
      "source": [
        "def pct_diff(old, new):\n",
        "    return (new - old) / old\n",
        "\n",
        "def compute_rolling(weather, horizon, col):\n",
        "    label = f\"rolling_{horizon}_{col}\"\n",
        "    weather[label] = weather[col].rolling(horizon).mean()\n",
        "    weather[f\"{label}_pct\"] = pct_diff(weather[label], weather[col])\n",
        "    return weather\n",
        "    \n",
        "rolling_horizons = [3, 14]\n",
        "for horizon in rolling_horizons:\n",
        "    for col in [\"tmax\", \"tmin\", \"prcp\"]:\n",
        "        weather = compute_rolling(weather, horizon, col)"
      ]
    },
    {
      "cell_type": "code",
      "execution_count": 30,
      "id": "ff1ccc4b-e48a-40bf-9657-2cc1b5d0fdca",
      "metadata": {
        "colab": {
          "base_uri": "https://localhost:8080/",
          "height": 397
        },
        "id": "ff1ccc4b-e48a-40bf-9657-2cc1b5d0fdca",
        "outputId": "4151321d-0179-4dc4-d206-b5688000780f"
      },
      "outputs": [
        {
          "output_type": "stream",
          "name": "stderr",
          "text": [
            "<ipython-input-30-54a4f1e2486f>:5: FutureWarning: reindexing with a non-unique Index is deprecated and will raise in a future version.\n",
            "  weather[f\"month_avg_{col}\"] = weather[col].groupby(weather.index.month, group_keys=False).apply(expand_mean)\n"
          ]
        },
        {
          "output_type": "error",
          "ename": "ValueError",
          "evalue": "ignored",
          "traceback": [
            "\u001b[0;31m---------------------------------------------------------------------------\u001b[0m",
            "\u001b[0;31mValueError\u001b[0m                                Traceback (most recent call last)",
            "\u001b[0;32m<ipython-input-30-54a4f1e2486f>\u001b[0m in \u001b[0;36m<cell line: 4>\u001b[0;34m()\u001b[0m\n\u001b[1;32m      3\u001b[0m \u001b[0;34m\u001b[0m\u001b[0m\n\u001b[1;32m      4\u001b[0m \u001b[0;32mfor\u001b[0m \u001b[0mcol\u001b[0m \u001b[0;32min\u001b[0m \u001b[0;34m[\u001b[0m\u001b[0;34m\"tmax\"\u001b[0m\u001b[0;34m,\u001b[0m \u001b[0;34m\"tmin\"\u001b[0m\u001b[0;34m,\u001b[0m \u001b[0;34m\"prcp\"\u001b[0m\u001b[0;34m]\u001b[0m\u001b[0;34m:\u001b[0m\u001b[0;34m\u001b[0m\u001b[0;34m\u001b[0m\u001b[0m\n\u001b[0;32m----> 5\u001b[0;31m     \u001b[0mweather\u001b[0m\u001b[0;34m[\u001b[0m\u001b[0;34mf\"month_avg_{col}\"\u001b[0m\u001b[0;34m]\u001b[0m \u001b[0;34m=\u001b[0m \u001b[0mweather\u001b[0m\u001b[0;34m[\u001b[0m\u001b[0mcol\u001b[0m\u001b[0;34m]\u001b[0m\u001b[0;34m.\u001b[0m\u001b[0mgroupby\u001b[0m\u001b[0;34m(\u001b[0m\u001b[0mweather\u001b[0m\u001b[0;34m.\u001b[0m\u001b[0mindex\u001b[0m\u001b[0;34m.\u001b[0m\u001b[0mmonth\u001b[0m\u001b[0;34m,\u001b[0m \u001b[0mgroup_keys\u001b[0m\u001b[0;34m=\u001b[0m\u001b[0;32mFalse\u001b[0m\u001b[0;34m)\u001b[0m\u001b[0;34m.\u001b[0m\u001b[0mapply\u001b[0m\u001b[0;34m(\u001b[0m\u001b[0mexpand_mean\u001b[0m\u001b[0;34m)\u001b[0m\u001b[0;34m\u001b[0m\u001b[0;34m\u001b[0m\u001b[0m\n\u001b[0m\u001b[1;32m      6\u001b[0m     \u001b[0mweather\u001b[0m\u001b[0;34m[\u001b[0m\u001b[0;34mf\"day_avg_{col}\"\u001b[0m\u001b[0;34m]\u001b[0m \u001b[0;34m=\u001b[0m \u001b[0mweather\u001b[0m\u001b[0;34m[\u001b[0m\u001b[0mcol\u001b[0m\u001b[0;34m]\u001b[0m\u001b[0;34m.\u001b[0m\u001b[0mgroupby\u001b[0m\u001b[0;34m(\u001b[0m\u001b[0mweather\u001b[0m\u001b[0;34m.\u001b[0m\u001b[0mindex\u001b[0m\u001b[0;34m.\u001b[0m\u001b[0mday_of_year\u001b[0m\u001b[0;34m,\u001b[0m \u001b[0mgroup_keys\u001b[0m\u001b[0;34m=\u001b[0m\u001b[0;32mFalse\u001b[0m\u001b[0;34m)\u001b[0m\u001b[0;34m.\u001b[0m\u001b[0mapply\u001b[0m\u001b[0;34m(\u001b[0m\u001b[0mexpand_mean\u001b[0m\u001b[0;34m)\u001b[0m\u001b[0;34m\u001b[0m\u001b[0;34m\u001b[0m\u001b[0m\n",
            "\u001b[0;32m/usr/local/lib/python3.9/dist-packages/pandas/core/frame.py\u001b[0m in \u001b[0;36m__setitem__\u001b[0;34m(self, key, value)\u001b[0m\n\u001b[1;32m   3978\u001b[0m         \u001b[0;32melse\u001b[0m\u001b[0;34m:\u001b[0m\u001b[0;34m\u001b[0m\u001b[0;34m\u001b[0m\u001b[0m\n\u001b[1;32m   3979\u001b[0m             \u001b[0;31m# set column\u001b[0m\u001b[0;34m\u001b[0m\u001b[0;34m\u001b[0m\u001b[0m\n\u001b[0;32m-> 3980\u001b[0;31m             \u001b[0mself\u001b[0m\u001b[0;34m.\u001b[0m\u001b[0m_set_item\u001b[0m\u001b[0;34m(\u001b[0m\u001b[0mkey\u001b[0m\u001b[0;34m,\u001b[0m \u001b[0mvalue\u001b[0m\u001b[0;34m)\u001b[0m\u001b[0;34m\u001b[0m\u001b[0;34m\u001b[0m\u001b[0m\n\u001b[0m\u001b[1;32m   3981\u001b[0m \u001b[0;34m\u001b[0m\u001b[0m\n\u001b[1;32m   3982\u001b[0m     \u001b[0;32mdef\u001b[0m \u001b[0m_setitem_slice\u001b[0m\u001b[0;34m(\u001b[0m\u001b[0mself\u001b[0m\u001b[0;34m,\u001b[0m \u001b[0mkey\u001b[0m\u001b[0;34m:\u001b[0m \u001b[0mslice\u001b[0m\u001b[0;34m,\u001b[0m \u001b[0mvalue\u001b[0m\u001b[0;34m)\u001b[0m\u001b[0;34m:\u001b[0m\u001b[0;34m\u001b[0m\u001b[0;34m\u001b[0m\u001b[0m\n",
            "\u001b[0;32m/usr/local/lib/python3.9/dist-packages/pandas/core/frame.py\u001b[0m in \u001b[0;36m_set_item\u001b[0;34m(self, key, value)\u001b[0m\n\u001b[1;32m   4172\u001b[0m         \u001b[0mensure\u001b[0m \u001b[0mhomogeneity\u001b[0m\u001b[0;34m.\u001b[0m\u001b[0;34m\u001b[0m\u001b[0;34m\u001b[0m\u001b[0m\n\u001b[1;32m   4173\u001b[0m         \"\"\"\n\u001b[0;32m-> 4174\u001b[0;31m         \u001b[0mvalue\u001b[0m \u001b[0;34m=\u001b[0m \u001b[0mself\u001b[0m\u001b[0;34m.\u001b[0m\u001b[0m_sanitize_column\u001b[0m\u001b[0;34m(\u001b[0m\u001b[0mvalue\u001b[0m\u001b[0;34m)\u001b[0m\u001b[0;34m\u001b[0m\u001b[0;34m\u001b[0m\u001b[0m\n\u001b[0m\u001b[1;32m   4175\u001b[0m \u001b[0;34m\u001b[0m\u001b[0m\n\u001b[1;32m   4176\u001b[0m         if (\n",
            "\u001b[0;32m/usr/local/lib/python3.9/dist-packages/pandas/core/frame.py\u001b[0m in \u001b[0;36m_sanitize_column\u001b[0;34m(self, value)\u001b[0m\n\u001b[1;32m   4910\u001b[0m             \u001b[0;32mreturn\u001b[0m \u001b[0m_reindex_for_setitem\u001b[0m\u001b[0;34m(\u001b[0m\u001b[0mvalue\u001b[0m\u001b[0;34m,\u001b[0m \u001b[0mself\u001b[0m\u001b[0;34m.\u001b[0m\u001b[0mindex\u001b[0m\u001b[0;34m)\u001b[0m\u001b[0;34m\u001b[0m\u001b[0;34m\u001b[0m\u001b[0m\n\u001b[1;32m   4911\u001b[0m         \u001b[0;32melif\u001b[0m \u001b[0mis_dict_like\u001b[0m\u001b[0;34m(\u001b[0m\u001b[0mvalue\u001b[0m\u001b[0;34m)\u001b[0m\u001b[0;34m:\u001b[0m\u001b[0;34m\u001b[0m\u001b[0;34m\u001b[0m\u001b[0m\n\u001b[0;32m-> 4912\u001b[0;31m             \u001b[0;32mreturn\u001b[0m \u001b[0m_reindex_for_setitem\u001b[0m\u001b[0;34m(\u001b[0m\u001b[0mSeries\u001b[0m\u001b[0;34m(\u001b[0m\u001b[0mvalue\u001b[0m\u001b[0;34m)\u001b[0m\u001b[0;34m,\u001b[0m \u001b[0mself\u001b[0m\u001b[0;34m.\u001b[0m\u001b[0mindex\u001b[0m\u001b[0;34m)\u001b[0m\u001b[0;34m\u001b[0m\u001b[0;34m\u001b[0m\u001b[0m\n\u001b[0m\u001b[1;32m   4913\u001b[0m \u001b[0;34m\u001b[0m\u001b[0m\n\u001b[1;32m   4914\u001b[0m         \u001b[0;32mif\u001b[0m \u001b[0mis_list_like\u001b[0m\u001b[0;34m(\u001b[0m\u001b[0mvalue\u001b[0m\u001b[0;34m)\u001b[0m\u001b[0;34m:\u001b[0m\u001b[0;34m\u001b[0m\u001b[0;34m\u001b[0m\u001b[0m\n",
            "\u001b[0;32m/usr/local/lib/python3.9/dist-packages/pandas/core/frame.py\u001b[0m in \u001b[0;36m_reindex_for_setitem\u001b[0;34m(value, index)\u001b[0m\n\u001b[1;32m  12023\u001b[0m         \u001b[0;32mif\u001b[0m \u001b[0;32mnot\u001b[0m \u001b[0mvalue\u001b[0m\u001b[0;34m.\u001b[0m\u001b[0mindex\u001b[0m\u001b[0;34m.\u001b[0m\u001b[0mis_unique\u001b[0m\u001b[0;34m:\u001b[0m\u001b[0;34m\u001b[0m\u001b[0;34m\u001b[0m\u001b[0m\n\u001b[1;32m  12024\u001b[0m             \u001b[0;31m# duplicate axis\u001b[0m\u001b[0;34m\u001b[0m\u001b[0;34m\u001b[0m\u001b[0m\n\u001b[0;32m> 12025\u001b[0;31m             \u001b[0;32mraise\u001b[0m \u001b[0merr\u001b[0m\u001b[0;34m\u001b[0m\u001b[0;34m\u001b[0m\u001b[0m\n\u001b[0m\u001b[1;32m  12026\u001b[0m \u001b[0;34m\u001b[0m\u001b[0m\n\u001b[1;32m  12027\u001b[0m         raise TypeError(\n",
            "\u001b[0;32m/usr/local/lib/python3.9/dist-packages/pandas/core/frame.py\u001b[0m in \u001b[0;36m_reindex_for_setitem\u001b[0;34m(value, index)\u001b[0m\n\u001b[1;32m  12018\u001b[0m     \u001b[0;31m# GH#4107\u001b[0m\u001b[0;34m\u001b[0m\u001b[0;34m\u001b[0m\u001b[0m\n\u001b[1;32m  12019\u001b[0m     \u001b[0;32mtry\u001b[0m\u001b[0;34m:\u001b[0m\u001b[0;34m\u001b[0m\u001b[0;34m\u001b[0m\u001b[0m\n\u001b[0;32m> 12020\u001b[0;31m         \u001b[0mreindexed_value\u001b[0m \u001b[0;34m=\u001b[0m \u001b[0mvalue\u001b[0m\u001b[0;34m.\u001b[0m\u001b[0mreindex\u001b[0m\u001b[0;34m(\u001b[0m\u001b[0mindex\u001b[0m\u001b[0;34m)\u001b[0m\u001b[0;34m.\u001b[0m\u001b[0m_values\u001b[0m\u001b[0;34m\u001b[0m\u001b[0;34m\u001b[0m\u001b[0m\n\u001b[0m\u001b[1;32m  12021\u001b[0m     \u001b[0;32mexcept\u001b[0m \u001b[0mValueError\u001b[0m \u001b[0;32mas\u001b[0m \u001b[0merr\u001b[0m\u001b[0;34m:\u001b[0m\u001b[0;34m\u001b[0m\u001b[0;34m\u001b[0m\u001b[0m\n\u001b[1;32m  12022\u001b[0m         \u001b[0;31m# raised in MultiIndex.from_tuples, see test_insert_error_msmgs\u001b[0m\u001b[0;34m\u001b[0m\u001b[0;34m\u001b[0m\u001b[0m\n",
            "\u001b[0;32m/usr/local/lib/python3.9/dist-packages/pandas/core/series.py\u001b[0m in \u001b[0;36mreindex\u001b[0;34m(self, *args, **kwargs)\u001b[0m\n\u001b[1;32m   5092\u001b[0m                 )\n\u001b[1;32m   5093\u001b[0m             \u001b[0mkwargs\u001b[0m\u001b[0;34m.\u001b[0m\u001b[0mupdate\u001b[0m\u001b[0;34m(\u001b[0m\u001b[0;34m{\u001b[0m\u001b[0;34m\"index\"\u001b[0m\u001b[0;34m:\u001b[0m \u001b[0mindex\u001b[0m\u001b[0;34m}\u001b[0m\u001b[0;34m)\u001b[0m\u001b[0;34m\u001b[0m\u001b[0;34m\u001b[0m\u001b[0m\n\u001b[0;32m-> 5094\u001b[0;31m         \u001b[0;32mreturn\u001b[0m \u001b[0msuper\u001b[0m\u001b[0;34m(\u001b[0m\u001b[0;34m)\u001b[0m\u001b[0;34m.\u001b[0m\u001b[0mreindex\u001b[0m\u001b[0;34m(\u001b[0m\u001b[0;34m**\u001b[0m\u001b[0mkwargs\u001b[0m\u001b[0;34m)\u001b[0m\u001b[0;34m\u001b[0m\u001b[0;34m\u001b[0m\u001b[0m\n\u001b[0m\u001b[1;32m   5095\u001b[0m \u001b[0;34m\u001b[0m\u001b[0m\n\u001b[1;32m   5096\u001b[0m     \u001b[0;34m@\u001b[0m\u001b[0moverload\u001b[0m\u001b[0;34m\u001b[0m\u001b[0;34m\u001b[0m\u001b[0m\n",
            "\u001b[0;32m/usr/local/lib/python3.9/dist-packages/pandas/core/generic.py\u001b[0m in \u001b[0;36mreindex\u001b[0;34m(self, *args, **kwargs)\u001b[0m\n\u001b[1;32m   5287\u001b[0m \u001b[0;34m\u001b[0m\u001b[0m\n\u001b[1;32m   5288\u001b[0m         \u001b[0;31m# perform the reindex on the axes\u001b[0m\u001b[0;34m\u001b[0m\u001b[0;34m\u001b[0m\u001b[0m\n\u001b[0;32m-> 5289\u001b[0;31m         return self._reindex_axes(\n\u001b[0m\u001b[1;32m   5290\u001b[0m             \u001b[0maxes\u001b[0m\u001b[0;34m,\u001b[0m \u001b[0mlevel\u001b[0m\u001b[0;34m,\u001b[0m \u001b[0mlimit\u001b[0m\u001b[0;34m,\u001b[0m \u001b[0mtolerance\u001b[0m\u001b[0;34m,\u001b[0m \u001b[0mmethod\u001b[0m\u001b[0;34m,\u001b[0m \u001b[0mfill_value\u001b[0m\u001b[0;34m,\u001b[0m \u001b[0mcopy\u001b[0m\u001b[0;34m\u001b[0m\u001b[0;34m\u001b[0m\u001b[0m\n\u001b[1;32m   5291\u001b[0m         ).__finalize__(self, method=\"reindex\")\n",
            "\u001b[0;32m/usr/local/lib/python3.9/dist-packages/pandas/core/generic.py\u001b[0m in \u001b[0;36m_reindex_axes\u001b[0;34m(self, axes, level, limit, tolerance, method, fill_value, copy)\u001b[0m\n\u001b[1;32m   5307\u001b[0m \u001b[0;34m\u001b[0m\u001b[0m\n\u001b[1;32m   5308\u001b[0m             \u001b[0maxis\u001b[0m \u001b[0;34m=\u001b[0m \u001b[0mself\u001b[0m\u001b[0;34m.\u001b[0m\u001b[0m_get_axis_number\u001b[0m\u001b[0;34m(\u001b[0m\u001b[0ma\u001b[0m\u001b[0;34m)\u001b[0m\u001b[0;34m\u001b[0m\u001b[0;34m\u001b[0m\u001b[0m\n\u001b[0;32m-> 5309\u001b[0;31m             obj = obj._reindex_with_indexers(\n\u001b[0m\u001b[1;32m   5310\u001b[0m                 \u001b[0;34m{\u001b[0m\u001b[0maxis\u001b[0m\u001b[0;34m:\u001b[0m \u001b[0;34m[\u001b[0m\u001b[0mnew_index\u001b[0m\u001b[0;34m,\u001b[0m \u001b[0mindexer\u001b[0m\u001b[0;34m]\u001b[0m\u001b[0;34m}\u001b[0m\u001b[0;34m,\u001b[0m\u001b[0;34m\u001b[0m\u001b[0;34m\u001b[0m\u001b[0m\n\u001b[1;32m   5311\u001b[0m                 \u001b[0mfill_value\u001b[0m\u001b[0;34m=\u001b[0m\u001b[0mfill_value\u001b[0m\u001b[0;34m,\u001b[0m\u001b[0;34m\u001b[0m\u001b[0;34m\u001b[0m\u001b[0m\n",
            "\u001b[0;32m/usr/local/lib/python3.9/dist-packages/pandas/core/generic.py\u001b[0m in \u001b[0;36m_reindex_with_indexers\u001b[0;34m(self, reindexers, fill_value, copy, allow_dups)\u001b[0m\n\u001b[1;32m   5353\u001b[0m \u001b[0;34m\u001b[0m\u001b[0m\n\u001b[1;32m   5354\u001b[0m             \u001b[0;31m# TODO: speed up on homogeneous DataFrame objects (see _reindex_multi)\u001b[0m\u001b[0;34m\u001b[0m\u001b[0;34m\u001b[0m\u001b[0m\n\u001b[0;32m-> 5355\u001b[0;31m             new_data = new_data.reindex_indexer(\n\u001b[0m\u001b[1;32m   5356\u001b[0m                 \u001b[0mindex\u001b[0m\u001b[0;34m,\u001b[0m\u001b[0;34m\u001b[0m\u001b[0;34m\u001b[0m\u001b[0m\n\u001b[1;32m   5357\u001b[0m                 \u001b[0mindexer\u001b[0m\u001b[0;34m,\u001b[0m\u001b[0;34m\u001b[0m\u001b[0;34m\u001b[0m\u001b[0m\n",
            "\u001b[0;32m/usr/local/lib/python3.9/dist-packages/pandas/core/internals/managers.py\u001b[0m in \u001b[0;36mreindex_indexer\u001b[0;34m(self, new_axis, indexer, axis, fill_value, allow_dups, copy, only_slice, use_na_proxy)\u001b[0m\n\u001b[1;32m    735\u001b[0m         \u001b[0;31m# some axes don't allow reindexing with dups\u001b[0m\u001b[0;34m\u001b[0m\u001b[0;34m\u001b[0m\u001b[0m\n\u001b[1;32m    736\u001b[0m         \u001b[0;32mif\u001b[0m \u001b[0;32mnot\u001b[0m \u001b[0mallow_dups\u001b[0m\u001b[0;34m:\u001b[0m\u001b[0;34m\u001b[0m\u001b[0;34m\u001b[0m\u001b[0m\n\u001b[0;32m--> 737\u001b[0;31m             \u001b[0mself\u001b[0m\u001b[0;34m.\u001b[0m\u001b[0maxes\u001b[0m\u001b[0;34m[\u001b[0m\u001b[0maxis\u001b[0m\u001b[0;34m]\u001b[0m\u001b[0;34m.\u001b[0m\u001b[0m_validate_can_reindex\u001b[0m\u001b[0;34m(\u001b[0m\u001b[0mindexer\u001b[0m\u001b[0;34m)\u001b[0m\u001b[0;34m\u001b[0m\u001b[0;34m\u001b[0m\u001b[0m\n\u001b[0m\u001b[1;32m    738\u001b[0m \u001b[0;34m\u001b[0m\u001b[0m\n\u001b[1;32m    739\u001b[0m         \u001b[0;32mif\u001b[0m \u001b[0maxis\u001b[0m \u001b[0;34m>=\u001b[0m \u001b[0mself\u001b[0m\u001b[0;34m.\u001b[0m\u001b[0mndim\u001b[0m\u001b[0;34m:\u001b[0m\u001b[0;34m\u001b[0m\u001b[0;34m\u001b[0m\u001b[0m\n",
            "\u001b[0;32m/usr/local/lib/python3.9/dist-packages/pandas/core/indexes/base.py\u001b[0m in \u001b[0;36m_validate_can_reindex\u001b[0;34m(self, indexer)\u001b[0m\n\u001b[1;32m   4314\u001b[0m         \u001b[0;31m# trying to reindex on an axis with duplicates\u001b[0m\u001b[0;34m\u001b[0m\u001b[0;34m\u001b[0m\u001b[0m\n\u001b[1;32m   4315\u001b[0m         \u001b[0;32mif\u001b[0m \u001b[0;32mnot\u001b[0m \u001b[0mself\u001b[0m\u001b[0;34m.\u001b[0m\u001b[0m_index_as_unique\u001b[0m \u001b[0;32mand\u001b[0m \u001b[0mlen\u001b[0m\u001b[0;34m(\u001b[0m\u001b[0mindexer\u001b[0m\u001b[0;34m)\u001b[0m\u001b[0;34m:\u001b[0m\u001b[0;34m\u001b[0m\u001b[0;34m\u001b[0m\u001b[0m\n\u001b[0;32m-> 4316\u001b[0;31m             \u001b[0;32mraise\u001b[0m \u001b[0mValueError\u001b[0m\u001b[0;34m(\u001b[0m\u001b[0;34m\"cannot reindex on an axis with duplicate labels\"\u001b[0m\u001b[0;34m)\u001b[0m\u001b[0;34m\u001b[0m\u001b[0;34m\u001b[0m\u001b[0m\n\u001b[0m\u001b[1;32m   4317\u001b[0m \u001b[0;34m\u001b[0m\u001b[0m\n\u001b[1;32m   4318\u001b[0m     def reindex(\n",
            "\u001b[0;31mValueError\u001b[0m: cannot reindex on an axis with duplicate labels"
          ]
        }
      ],
      "source": [
        "def expand_mean(df):\n",
        "    return df.expanding(1).mean()\n",
        "\n",
        "for col in [\"tmax\", \"tmin\", \"prcp\"]:\n",
        "    weather[f\"month_avg_{col}\"] = weather[col].groupby(weather.index.month, group_keys=False).apply(expand_mean)\n",
        "    weather[f\"day_avg_{col}\"] = weather[col].groupby(weather.index.day_of_year, group_keys=False).apply(expand_mean)"
      ]
    },
    {
      "cell_type": "code",
      "execution_count": null,
      "id": "9d568ccd-7364-4314-944e-f8d8aecd9a0e",
      "metadata": {
        "id": "9d568ccd-7364-4314-944e-f8d8aecd9a0e"
      },
      "outputs": [],
      "source": [
        "weather = weather.iloc[14:,:]\n",
        "weather = weather.fillna(0)"
      ]
    },
    {
      "cell_type": "code",
      "execution_count": null,
      "id": "ad865034-621f-4e23-8eeb-bbe6469a6714",
      "metadata": {
        "id": "ad865034-621f-4e23-8eeb-bbe6469a6714"
      },
      "outputs": [],
      "source": [
        "predictors = weather.columns[~weather.columns.isin([\"target\", \"name\", \"station\"])]"
      ]
    },
    {
      "cell_type": "code",
      "execution_count": null,
      "id": "c39ab4af-a1a8-4968-99b1-266afe31252a",
      "metadata": {
        "id": "c39ab4af-a1a8-4968-99b1-266afe31252a"
      },
      "outputs": [],
      "source": [
        "predictions = backtest(weather, rr, predictors)\n",
        "mean_absolute_error(predictions[\"actual\"], predictions[\"prediction\"])"
      ]
    },
    {
      "cell_type": "code",
      "execution_count": null,
      "id": "f6d386f0-7f51-495b-8b8b-1d66d16d0c1a",
      "metadata": {
        "id": "f6d386f0-7f51-495b-8b8b-1d66d16d0c1a"
      },
      "outputs": [],
      "source": [
        "mean_squared_error(predictions[\"actual\"], predictions[\"prediction\"])"
      ]
    },
    {
      "cell_type": "code",
      "execution_count": null,
      "id": "1b1a403f-71b3-41d4-a507-60af90e5606e",
      "metadata": {
        "id": "1b1a403f-71b3-41d4-a507-60af90e5606e"
      },
      "outputs": [],
      "source": [
        "predictions.sort_values(\"diff\", ascending=False)"
      ]
    },
    {
      "cell_type": "code",
      "execution_count": null,
      "id": "18504068-4ed5-4cd3-a6f2-06294c8a90cc",
      "metadata": {
        "id": "18504068-4ed5-4cd3-a6f2-06294c8a90cc"
      },
      "outputs": [],
      "source": [
        "weather.loc[\"1990-03-07\": \"1990-03-17\"]"
      ]
    },
    {
      "cell_type": "code",
      "execution_count": null,
      "id": "f00bb962-5b02-4fb3-a28b-56def4451c72",
      "metadata": {
        "id": "f00bb962-5b02-4fb3-a28b-56def4451c72"
      },
      "outputs": [],
      "source": [
        "(predictions[\"diff\"].round().value_counts().sort_index() / predictions.shape[0]).plot()"
      ]
    },
    {
      "cell_type": "code",
      "execution_count": null,
      "id": "e6aae835-e84f-43ad-b852-781ef63e981d",
      "metadata": {
        "id": "e6aae835-e84f-43ad-b852-781ef63e981d"
      },
      "outputs": [],
      "source": [
        "predictions"
      ]
    },
    {
      "cell_type": "code",
      "execution_count": null,
      "id": "82880319-0b42-4a91-b37f-b4cd3b7c79c5",
      "metadata": {
        "id": "82880319-0b42-4a91-b37f-b4cd3b7c79c5"
      },
      "outputs": [],
      "source": []
    }
  ],
  "metadata": {
    "kernelspec": {
      "display_name": "Python 3 (ipykernel)",
      "language": "python",
      "name": "python3"
    },
    "language_info": {
      "codemirror_mode": {
        "name": "ipython",
        "version": 3
      },
      "file_extension": ".py",
      "mimetype": "text/x-python",
      "name": "python",
      "nbconvert_exporter": "python",
      "pygments_lexer": "ipython3",
      "version": "3.9.15"
    },
    "colab": {
      "provenance": [],
      "include_colab_link": true
    }
  },
  "nbformat": 4,
  "nbformat_minor": 5
}