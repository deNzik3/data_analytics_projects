{
  "nbformat": 4,
  "nbformat_minor": 0,
  "metadata": {
    "colab": {
      "provenance": [],
      "authorship_tag": "ABX9TyP5cQ5v6f9VQjwsp6hS8SZc",
      "include_colab_link": true
    },
    "kernelspec": {
      "name": "python3",
      "display_name": "Python 3"
    },
    "language_info": {
      "name": "python"
    }
  },
  "cells": [
    {
      "cell_type": "markdown",
      "metadata": {
        "id": "view-in-github",
        "colab_type": "text"
      },
      "source": [
        "<a href=\"https://colab.research.google.com/github/densivanov/data_analytics_projects/blob/main/uber_analysis/BigQuery_analysis_PySparkSQL.ipynb\" target=\"_parent\"><img src=\"https://colab.research.google.com/assets/colab-badge.svg\" alt=\"Open In Colab\"/></a>"
      ]
    },
    {
      "cell_type": "markdown",
      "source": [
        "#Installing libraries"
      ],
      "metadata": {
        "id": "Gml2M6lDhIkM"
      }
    },
    {
      "cell_type": "code",
      "source": [
        "import pandas as pd\n",
        "\n",
        "!pip install pyspark py4j\n",
        "from pyspark.sql import SparkSession\n",
        "spark = SparkSession.builder.appName(\"Analysis\").getOrCreate()"
      ],
      "metadata": {
        "colab": {
          "base_uri": "https://localhost:8080/"
        },
        "id": "9teN6_UxhHnX",
        "outputId": "ac7954f3-3800-4915-a55a-a3d0cf4f9d27"
      },
      "execution_count": 17,
      "outputs": [
        {
          "output_type": "stream",
          "name": "stdout",
          "text": [
            "Looking in indexes: https://pypi.org/simple, https://us-python.pkg.dev/colab-wheels/public/simple/\n",
            "Requirement already satisfied: pyspark in /usr/local/lib/python3.10/dist-packages (3.4.0)\n",
            "Requirement already satisfied: py4j in /usr/local/lib/python3.10/dist-packages (0.10.9.7)\n"
          ]
        }
      ]
    },
    {
      "cell_type": "markdown",
      "source": [
        "#Getting data"
      ],
      "metadata": {
        "id": "1SUn9k8yhNit"
      }
    },
    {
      "cell_type": "code",
      "source": [
        "df = spark.read.parquet(\"/content/yellow_tripdata_2023-01.parquet\")"
      ],
      "metadata": {
        "id": "a7VFrR4uhHqF"
      },
      "execution_count": 18,
      "outputs": []
    },
    {
      "cell_type": "code",
      "source": [
        "df.show()"
      ],
      "metadata": {
        "colab": {
          "base_uri": "https://localhost:8080/"
        },
        "id": "0klJHvO0hHsz",
        "outputId": "505ec94d-4ac5-46a6-b9bd-98772bbbf41b"
      },
      "execution_count": 19,
      "outputs": [
        {
          "output_type": "stream",
          "name": "stdout",
          "text": [
            "+--------+--------------------+---------------------+---------------+-------------+----------+------------------+------------+------------+------------+-----------+-----+-------+----------+------------+---------------------+------------+--------------------+-----------+\n",
            "|VendorID|tpep_pickup_datetime|tpep_dropoff_datetime|passenger_count|trip_distance|RatecodeID|store_and_fwd_flag|PULocationID|DOLocationID|payment_type|fare_amount|extra|mta_tax|tip_amount|tolls_amount|improvement_surcharge|total_amount|congestion_surcharge|airport_fee|\n",
            "+--------+--------------------+---------------------+---------------+-------------+----------+------------------+------------+------------+------------+-----------+-----+-------+----------+------------+---------------------+------------+--------------------+-----------+\n",
            "|       2| 2023-01-01 00:32:10|  2023-01-01 00:40:36|            1.0|         0.97|       1.0|                 N|         161|         141|           2|        9.3|  1.0|    0.5|       0.0|         0.0|                  1.0|        14.3|                 2.5|        0.0|\n",
            "|       2| 2023-01-01 00:55:08|  2023-01-01 01:01:27|            1.0|          1.1|       1.0|                 N|          43|         237|           1|        7.9|  1.0|    0.5|       4.0|         0.0|                  1.0|        16.9|                 2.5|        0.0|\n",
            "|       2| 2023-01-01 00:25:04|  2023-01-01 00:37:49|            1.0|         2.51|       1.0|                 N|          48|         238|           1|       14.9|  1.0|    0.5|      15.0|         0.0|                  1.0|        34.9|                 2.5|        0.0|\n",
            "|       1| 2023-01-01 00:03:48|  2023-01-01 00:13:25|            0.0|          1.9|       1.0|                 N|         138|           7|           1|       12.1| 7.25|    0.5|       0.0|         0.0|                  1.0|       20.85|                 0.0|       1.25|\n",
            "|       2| 2023-01-01 00:10:29|  2023-01-01 00:21:19|            1.0|         1.43|       1.0|                 N|         107|          79|           1|       11.4|  1.0|    0.5|      3.28|         0.0|                  1.0|       19.68|                 2.5|        0.0|\n",
            "|       2| 2023-01-01 00:50:34|  2023-01-01 01:02:52|            1.0|         1.84|       1.0|                 N|         161|         137|           1|       12.8|  1.0|    0.5|      10.0|         0.0|                  1.0|        27.8|                 2.5|        0.0|\n",
            "|       2| 2023-01-01 00:09:22|  2023-01-01 00:19:49|            1.0|         1.66|       1.0|                 N|         239|         143|           1|       12.1|  1.0|    0.5|      3.42|         0.0|                  1.0|       20.52|                 2.5|        0.0|\n",
            "|       2| 2023-01-01 00:27:12|  2023-01-01 00:49:56|            1.0|         11.7|       1.0|                 N|         142|         200|           1|       45.7|  1.0|    0.5|     10.74|         3.0|                  1.0|       64.44|                 2.5|        0.0|\n",
            "|       2| 2023-01-01 00:21:44|  2023-01-01 00:36:40|            1.0|         2.95|       1.0|                 N|         164|         236|           1|       17.7|  1.0|    0.5|      5.68|         0.0|                  1.0|       28.38|                 2.5|        0.0|\n",
            "|       2| 2023-01-01 00:39:42|  2023-01-01 00:50:36|            1.0|         3.01|       1.0|                 N|         141|         107|           2|       14.9|  1.0|    0.5|       0.0|         0.0|                  1.0|        19.9|                 2.5|        0.0|\n",
            "|       2| 2023-01-01 00:53:01|  2023-01-01 01:01:45|            1.0|          1.8|       1.0|                 N|         234|          68|           1|       11.4|  1.0|    0.5|      3.28|         0.0|                  1.0|       19.68|                 2.5|        0.0|\n",
            "|       1| 2023-01-01 00:43:37|  2023-01-01 01:17:18|            4.0|          7.3|       1.0|                 N|          79|         264|           1|       33.8|  3.5|    0.5|      7.75|         0.0|                  1.0|       46.55|                 2.5|        0.0|\n",
            "|       2| 2023-01-01 00:34:44|  2023-01-01 01:04:25|            1.0|         3.23|       1.0|                 N|         164|         143|           1|       26.1|  1.0|    0.5|      6.22|         0.0|                  1.0|       37.32|                 2.5|        0.0|\n",
            "|       2| 2023-01-01 00:09:29|  2023-01-01 00:29:23|            2.0|        11.43|       1.0|                 N|         138|          33|           1|       44.3|  6.0|    0.5|     13.26|         0.0|                  1.0|       66.31|                 0.0|       1.25|\n",
            "|       2| 2023-01-01 00:33:53|  2023-01-01 00:49:15|            1.0|         2.95|       1.0|                 N|          33|          61|           1|       17.7|  1.0|    0.5|      4.04|         0.0|                  1.0|       24.24|                 0.0|        0.0|\n",
            "|       2| 2023-01-01 00:13:04|  2023-01-01 00:22:10|            1.0|         1.52|       1.0|                 N|          79|         186|           1|       10.0|  1.0|    0.5|      1.25|         0.0|                  1.0|       16.25|                 2.5|        0.0|\n",
            "|       2| 2023-01-01 00:45:11|  2023-01-01 01:07:39|            1.0|         2.23|       1.0|                 N|          90|          48|           1|       19.8|  1.0|    0.5|      4.96|         0.0|                  1.0|       29.76|                 2.5|        0.0|\n",
            "|       1| 2023-01-01 00:04:33|  2023-01-01 00:19:22|            1.0|          4.5|       1.0|                 N|         113|         255|           1|       20.5|  3.5|    0.5|       4.0|         0.0|                  1.0|        29.5|                 2.5|        0.0|\n",
            "|       1| 2023-01-01 00:03:36|  2023-01-01 00:09:36|            3.0|          1.2|       1.0|                 N|         237|         239|           2|        8.6|  3.5|    0.5|       0.0|         0.0|                  1.0|        13.6|                 2.5|        0.0|\n",
            "|       1| 2023-01-01 00:15:23|  2023-01-01 00:29:41|            2.0|          2.5|       1.0|                 N|         143|         229|           2|       15.6|  3.5|    0.5|       0.0|         0.0|                  1.0|        20.6|                 2.5|        0.0|\n",
            "+--------+--------------------+---------------------+---------------+-------------+----------+------------------+------------+------------+------------+-----------+-----+-------+----------+------------+---------------------+------------+--------------------+-----------+\n",
            "only showing top 20 rows\n",
            "\n"
          ]
        }
      ]
    },
    {
      "cell_type": "markdown",
      "source": [
        "- добавить текст к вопросам\n",
        "- добавить ещё вопросов (сложные)"
      ],
      "metadata": {
        "id": "iQQ7GOnYOO_V"
      }
    },
    {
      "cell_type": "markdown",
      "source": [
        "# Creating a view"
      ],
      "metadata": {
        "id": "6Nvx7jIFiUGT"
      }
    },
    {
      "cell_type": "code",
      "source": [
        "# Create SQL table\n",
        "spark.read.parquet(\"/content/yellow_tripdata_2023-01.parquet\") \\\n",
        "          .createOrReplaceTempView(\"df\")"
      ],
      "metadata": {
        "id": "UJH-bEtLiUSz"
      },
      "execution_count": 20,
      "outputs": []
    },
    {
      "cell_type": "code",
      "source": [
        "spark.sql('''\n",
        "          SELECT *\n",
        "          FROM df\n",
        "\n",
        "\n",
        "''').show()"
      ],
      "metadata": {
        "colab": {
          "base_uri": "https://localhost:8080/"
        },
        "id": "7KHvhUikiUVo",
        "outputId": "c757741a-2200-4672-cdbf-241ade37aa9b"
      },
      "execution_count": 21,
      "outputs": [
        {
          "output_type": "stream",
          "name": "stdout",
          "text": [
            "+--------+--------------------+---------------------+---------------+-------------+----------+------------------+------------+------------+------------+-----------+-----+-------+----------+------------+---------------------+------------+--------------------+-----------+\n",
            "|VendorID|tpep_pickup_datetime|tpep_dropoff_datetime|passenger_count|trip_distance|RatecodeID|store_and_fwd_flag|PULocationID|DOLocationID|payment_type|fare_amount|extra|mta_tax|tip_amount|tolls_amount|improvement_surcharge|total_amount|congestion_surcharge|airport_fee|\n",
            "+--------+--------------------+---------------------+---------------+-------------+----------+------------------+------------+------------+------------+-----------+-----+-------+----------+------------+---------------------+------------+--------------------+-----------+\n",
            "|       2| 2023-01-01 00:32:10|  2023-01-01 00:40:36|            1.0|         0.97|       1.0|                 N|         161|         141|           2|        9.3|  1.0|    0.5|       0.0|         0.0|                  1.0|        14.3|                 2.5|        0.0|\n",
            "|       2| 2023-01-01 00:55:08|  2023-01-01 01:01:27|            1.0|          1.1|       1.0|                 N|          43|         237|           1|        7.9|  1.0|    0.5|       4.0|         0.0|                  1.0|        16.9|                 2.5|        0.0|\n",
            "|       2| 2023-01-01 00:25:04|  2023-01-01 00:37:49|            1.0|         2.51|       1.0|                 N|          48|         238|           1|       14.9|  1.0|    0.5|      15.0|         0.0|                  1.0|        34.9|                 2.5|        0.0|\n",
            "|       1| 2023-01-01 00:03:48|  2023-01-01 00:13:25|            0.0|          1.9|       1.0|                 N|         138|           7|           1|       12.1| 7.25|    0.5|       0.0|         0.0|                  1.0|       20.85|                 0.0|       1.25|\n",
            "|       2| 2023-01-01 00:10:29|  2023-01-01 00:21:19|            1.0|         1.43|       1.0|                 N|         107|          79|           1|       11.4|  1.0|    0.5|      3.28|         0.0|                  1.0|       19.68|                 2.5|        0.0|\n",
            "|       2| 2023-01-01 00:50:34|  2023-01-01 01:02:52|            1.0|         1.84|       1.0|                 N|         161|         137|           1|       12.8|  1.0|    0.5|      10.0|         0.0|                  1.0|        27.8|                 2.5|        0.0|\n",
            "|       2| 2023-01-01 00:09:22|  2023-01-01 00:19:49|            1.0|         1.66|       1.0|                 N|         239|         143|           1|       12.1|  1.0|    0.5|      3.42|         0.0|                  1.0|       20.52|                 2.5|        0.0|\n",
            "|       2| 2023-01-01 00:27:12|  2023-01-01 00:49:56|            1.0|         11.7|       1.0|                 N|         142|         200|           1|       45.7|  1.0|    0.5|     10.74|         3.0|                  1.0|       64.44|                 2.5|        0.0|\n",
            "|       2| 2023-01-01 00:21:44|  2023-01-01 00:36:40|            1.0|         2.95|       1.0|                 N|         164|         236|           1|       17.7|  1.0|    0.5|      5.68|         0.0|                  1.0|       28.38|                 2.5|        0.0|\n",
            "|       2| 2023-01-01 00:39:42|  2023-01-01 00:50:36|            1.0|         3.01|       1.0|                 N|         141|         107|           2|       14.9|  1.0|    0.5|       0.0|         0.0|                  1.0|        19.9|                 2.5|        0.0|\n",
            "|       2| 2023-01-01 00:53:01|  2023-01-01 01:01:45|            1.0|          1.8|       1.0|                 N|         234|          68|           1|       11.4|  1.0|    0.5|      3.28|         0.0|                  1.0|       19.68|                 2.5|        0.0|\n",
            "|       1| 2023-01-01 00:43:37|  2023-01-01 01:17:18|            4.0|          7.3|       1.0|                 N|          79|         264|           1|       33.8|  3.5|    0.5|      7.75|         0.0|                  1.0|       46.55|                 2.5|        0.0|\n",
            "|       2| 2023-01-01 00:34:44|  2023-01-01 01:04:25|            1.0|         3.23|       1.0|                 N|         164|         143|           1|       26.1|  1.0|    0.5|      6.22|         0.0|                  1.0|       37.32|                 2.5|        0.0|\n",
            "|       2| 2023-01-01 00:09:29|  2023-01-01 00:29:23|            2.0|        11.43|       1.0|                 N|         138|          33|           1|       44.3|  6.0|    0.5|     13.26|         0.0|                  1.0|       66.31|                 0.0|       1.25|\n",
            "|       2| 2023-01-01 00:33:53|  2023-01-01 00:49:15|            1.0|         2.95|       1.0|                 N|          33|          61|           1|       17.7|  1.0|    0.5|      4.04|         0.0|                  1.0|       24.24|                 0.0|        0.0|\n",
            "|       2| 2023-01-01 00:13:04|  2023-01-01 00:22:10|            1.0|         1.52|       1.0|                 N|          79|         186|           1|       10.0|  1.0|    0.5|      1.25|         0.0|                  1.0|       16.25|                 2.5|        0.0|\n",
            "|       2| 2023-01-01 00:45:11|  2023-01-01 01:07:39|            1.0|         2.23|       1.0|                 N|          90|          48|           1|       19.8|  1.0|    0.5|      4.96|         0.0|                  1.0|       29.76|                 2.5|        0.0|\n",
            "|       1| 2023-01-01 00:04:33|  2023-01-01 00:19:22|            1.0|          4.5|       1.0|                 N|         113|         255|           1|       20.5|  3.5|    0.5|       4.0|         0.0|                  1.0|        29.5|                 2.5|        0.0|\n",
            "|       1| 2023-01-01 00:03:36|  2023-01-01 00:09:36|            3.0|          1.2|       1.0|                 N|         237|         239|           2|        8.6|  3.5|    0.5|       0.0|         0.0|                  1.0|        13.6|                 2.5|        0.0|\n",
            "|       1| 2023-01-01 00:15:23|  2023-01-01 00:29:41|            2.0|          2.5|       1.0|                 N|         143|         229|           2|       15.6|  3.5|    0.5|       0.0|         0.0|                  1.0|        20.6|                 2.5|        0.0|\n",
            "+--------+--------------------+---------------------+---------------+-------------+----------+------------------+------------+------------+------------+-----------+-----+-------+----------+------------+---------------------+------------+--------------------+-----------+\n",
            "only showing top 20 rows\n",
            "\n"
          ]
        }
      ]
    },
    {
      "cell_type": "markdown",
      "source": [
        "#Analysis\n"
      ],
      "metadata": {
        "id": "VRv9tPrwhIAm"
      }
    },
    {
      "cell_type": "markdown",
      "source": [
        "#### Question №1: Output the average, maximum and minimum distance of the trip"
      ],
      "metadata": {
        "id": "0ieqcv7Qh7RE"
      }
    },
    {
      "cell_type": "code",
      "source": [
        "spark.sql('''SELECT ROUND(AVG(trip_distance),2) AS avg_distance,\n",
        "                    ROUND(MAX(trip_distance),2) AS max_distance,\n",
        "                    ROUND(MIN(trip_distance),2) AS min_distance\n",
        "             FROM df\n",
        "             \n",
        "             \n",
        "             \n",
        "             ''') \\\n",
        "     .show()"
      ],
      "metadata": {
        "colab": {
          "base_uri": "https://localhost:8080/"
        },
        "id": "h1QRmlalhls0",
        "outputId": "1be34a8e-5aee-4a3f-dfad-619a64c358e0"
      },
      "execution_count": 22,
      "outputs": [
        {
          "output_type": "stream",
          "name": "stdout",
          "text": [
            "+------------+------------+------------+\n",
            "|avg_distance|max_distance|min_distance|\n",
            "+------------+------------+------------+\n",
            "|        3.85|   258928.15|         0.0|\n",
            "+------------+------------+------------+\n",
            "\n"
          ]
        }
      ]
    },
    {
      "cell_type": "markdown",
      "source": [
        "As we can see, the average distance of the trip is 3.85 km."
      ],
      "metadata": {
        "id": "8JnJYJD7ucCb"
      }
    },
    {
      "cell_type": "markdown",
      "source": [
        "#### Question №2: Show metrics on the trip time"
      ],
      "metadata": {
        "id": "FSKFLFTHi1Kp"
      }
    },
    {
      "cell_type": "code",
      "source": [
        "spark.sql('''SELECT ROUND(AVG(DATEDIFF(minute,tpep_pickup_datetime,tpep_dropoff_datetime)),2) AS avg_minute_trip,\n",
        "                    ROUND(MAX(DATEDIFF(minute,tpep_pickup_datetime,tpep_dropoff_datetime)),2) AS max_minute_trip,\n",
        "                    ROUND(MIN(DATEDIFF(minute,tpep_pickup_datetime,tpep_dropoff_datetime)),2) AS min_minute_trip\n",
        "             FROM df\n",
        "             \n",
        "             \n",
        "             \n",
        "             ''') \\\n",
        "     .show()"
      ],
      "metadata": {
        "colab": {
          "base_uri": "https://localhost:8080/"
        },
        "id": "X2TVxWdzhl_7",
        "outputId": "eaaa8b62-7f7f-4c1a-d808-07c81e3f5597"
      },
      "execution_count": 28,
      "outputs": [
        {
          "output_type": "stream",
          "name": "stdout",
          "text": [
            "+---------------+---------------+---------------+\n",
            "|avg_minute_trip|max_minute_trip|min_minute_trip|\n",
            "+---------------+---------------+---------------+\n",
            "|          15.18|          10029|            -29|\n",
            "+---------------+---------------+---------------+\n",
            "\n"
          ]
        }
      ]
    },
    {
      "cell_type": "markdown",
      "source": [
        "The average trip takes 15 minutes. However we have outliers in the data let's see where exactly"
      ],
      "metadata": {
        "id": "BD4fMgx6v9EK"
      }
    },
    {
      "cell_type": "markdown",
      "source": [
        "#### Checking outliers in datetime"
      ],
      "metadata": {
        "id": "avMigACxw4sH"
      }
    },
    {
      "cell_type": "code",
      "source": [
        "spark.sql('''SELECT tpep_pickup_datetime,\n",
        "                    tpep_dropoff_datetime,\n",
        "                    passenger_count,\n",
        "                    trip_distance,\n",
        "                    payment_type\n",
        "                    fare_amount,\n",
        "                    tip_amount,\n",
        "                    total_amount\n",
        "             FROM df\n",
        "             WHERE DATEDIFF(minute,tpep_pickup_datetime,tpep_dropoff_datetime) IN (SELECT MAX(DATEDIFF(minute,tpep_pickup_datetime,tpep_dropoff_datetime))\n",
        "                                                                                   FROM df)\n",
        "             \n",
        "             \n",
        "             \n",
        "             ''') \\\n",
        "     .show()"
      ],
      "metadata": {
        "id": "EBeCPA-NhmCe",
        "colab": {
          "base_uri": "https://localhost:8080/"
        },
        "outputId": "f59b3b67-6fc6-44e2-cf93-dd4285ae5b20"
      },
      "execution_count": 32,
      "outputs": [
        {
          "output_type": "stream",
          "name": "stdout",
          "text": [
            "+--------------------+---------------------+---------------+-------------+-----------+----------+------------+\n",
            "|tpep_pickup_datetime|tpep_dropoff_datetime|passenger_count|trip_distance|fare_amount|tip_amount|total_amount|\n",
            "+--------------------+---------------------+---------------+-------------+-----------+----------+------------+\n",
            "| 2023-01-23 11:21:51|  2023-01-30 10:31:02|            1.0|          0.0|          2|       0.0|         4.5|\n",
            "+--------------------+---------------------+---------------+-------------+-----------+----------+------------+\n",
            "\n"
          ]
        }
      ]
    },
    {
      "cell_type": "markdown",
      "source": [
        "It is not difficult to understand that this is most likely a failure in information. You can see that the distance of the trip is 0 km, but the final cost is 4.5 dollars, which is quite strange"
      ],
      "metadata": {
        "id": "m073vo70xjlc"
      }
    },
    {
      "cell_type": "markdown",
      "source": [
        "#### Question №3: How many passengers per hour on average?"
      ],
      "metadata": {
        "id": "-SlUrGTMyGOT"
      }
    },
    {
      "cell_type": "code",
      "source": [
        "spark.sql('''SELECT EXTRACT(HOUR FROM tpep_pickup_datetime) AS hour,\n",
        "                    ROUND(AVG(passenger_count),2) AS avg_pass_count,\n",
        "                    MAX(passenger_count) AS max_pass_count\n",
        "             FROM df\n",
        "             GROUP BY EXTRACT(HOUR FROM tpep_pickup_datetime)\n",
        "             ORDER BY ROUND(AVG(passenger_count),2) DESC\n",
        "             \n",
        "             \n",
        "             \n",
        "             \n",
        "             ''') \\\n",
        "     .show()"
      ],
      "metadata": {
        "id": "-xBI3SldhmFJ",
        "colab": {
          "base_uri": "https://localhost:8080/"
        },
        "outputId": "7d6e258a-4dcd-4812-da13-3c3e6bc20644"
      },
      "execution_count": 41,
      "outputs": [
        {
          "output_type": "stream",
          "name": "stdout",
          "text": [
            "+----+--------------+--------------+\n",
            "|hour|avg_pass_count|max_pass_count|\n",
            "+----+--------------+--------------+\n",
            "|   2|          1.44|           6.0|\n",
            "|   1|          1.43|           6.0|\n",
            "|   0|          1.42|           8.0|\n",
            "|  22|          1.41|           6.0|\n",
            "|   3|          1.41|           7.0|\n",
            "|  23|           1.4|           6.0|\n",
            "|  21|           1.4|           6.0|\n",
            "|   4|          1.39|           6.0|\n",
            "|  16|          1.38|           8.0|\n",
            "|  20|          1.38|           8.0|\n",
            "|  15|          1.38|           8.0|\n",
            "|  19|          1.37|           7.0|\n",
            "|  14|          1.37|           8.0|\n",
            "|  13|          1.36|           8.0|\n",
            "|  17|          1.36|           8.0|\n",
            "|  12|          1.35|           7.0|\n",
            "|  18|          1.35|           8.0|\n",
            "|  11|          1.34|           8.0|\n",
            "|  10|          1.32|           6.0|\n",
            "|   5|           1.3|           6.0|\n",
            "+----+--------------+--------------+\n",
            "only showing top 20 rows\n",
            "\n"
          ]
        }
      ]
    },
    {
      "cell_type": "markdown",
      "source": [
        "The best hour for the average number of customers is 2 hours, but it is clear that on average there is one passenger everywhere. The quantity does not differ critically.\n",
        "\n",
        "\n",
        "The table also shows the maximum number of passengers at a time"
      ],
      "metadata": {
        "id": "x811TCtPzKlq"
      }
    },
    {
      "cell_type": "markdown",
      "source": [
        "**Show the table**"
      ],
      "metadata": {
        "id": "BnJkQEFszyO9"
      }
    },
    {
      "cell_type": "code",
      "source": [
        "spark.sql('''\n",
        "          SELECT *\n",
        "          FROM df\n",
        "\n",
        "\n",
        "''').show()"
      ],
      "metadata": {
        "colab": {
          "base_uri": "https://localhost:8080/"
        },
        "id": "h16hF2Kzzzal",
        "outputId": "b0843c21-142c-481b-8957-b7ef21eea78f"
      },
      "execution_count": 42,
      "outputs": [
        {
          "output_type": "stream",
          "name": "stdout",
          "text": [
            "+--------+--------------------+---------------------+---------------+-------------+----------+------------------+------------+------------+------------+-----------+-----+-------+----------+------------+---------------------+------------+--------------------+-----------+\n",
            "|VendorID|tpep_pickup_datetime|tpep_dropoff_datetime|passenger_count|trip_distance|RatecodeID|store_and_fwd_flag|PULocationID|DOLocationID|payment_type|fare_amount|extra|mta_tax|tip_amount|tolls_amount|improvement_surcharge|total_amount|congestion_surcharge|airport_fee|\n",
            "+--------+--------------------+---------------------+---------------+-------------+----------+------------------+------------+------------+------------+-----------+-----+-------+----------+------------+---------------------+------------+--------------------+-----------+\n",
            "|       2| 2023-01-01 00:32:10|  2023-01-01 00:40:36|            1.0|         0.97|       1.0|                 N|         161|         141|           2|        9.3|  1.0|    0.5|       0.0|         0.0|                  1.0|        14.3|                 2.5|        0.0|\n",
            "|       2| 2023-01-01 00:55:08|  2023-01-01 01:01:27|            1.0|          1.1|       1.0|                 N|          43|         237|           1|        7.9|  1.0|    0.5|       4.0|         0.0|                  1.0|        16.9|                 2.5|        0.0|\n",
            "|       2| 2023-01-01 00:25:04|  2023-01-01 00:37:49|            1.0|         2.51|       1.0|                 N|          48|         238|           1|       14.9|  1.0|    0.5|      15.0|         0.0|                  1.0|        34.9|                 2.5|        0.0|\n",
            "|       1| 2023-01-01 00:03:48|  2023-01-01 00:13:25|            0.0|          1.9|       1.0|                 N|         138|           7|           1|       12.1| 7.25|    0.5|       0.0|         0.0|                  1.0|       20.85|                 0.0|       1.25|\n",
            "|       2| 2023-01-01 00:10:29|  2023-01-01 00:21:19|            1.0|         1.43|       1.0|                 N|         107|          79|           1|       11.4|  1.0|    0.5|      3.28|         0.0|                  1.0|       19.68|                 2.5|        0.0|\n",
            "|       2| 2023-01-01 00:50:34|  2023-01-01 01:02:52|            1.0|         1.84|       1.0|                 N|         161|         137|           1|       12.8|  1.0|    0.5|      10.0|         0.0|                  1.0|        27.8|                 2.5|        0.0|\n",
            "|       2| 2023-01-01 00:09:22|  2023-01-01 00:19:49|            1.0|         1.66|       1.0|                 N|         239|         143|           1|       12.1|  1.0|    0.5|      3.42|         0.0|                  1.0|       20.52|                 2.5|        0.0|\n",
            "|       2| 2023-01-01 00:27:12|  2023-01-01 00:49:56|            1.0|         11.7|       1.0|                 N|         142|         200|           1|       45.7|  1.0|    0.5|     10.74|         3.0|                  1.0|       64.44|                 2.5|        0.0|\n",
            "|       2| 2023-01-01 00:21:44|  2023-01-01 00:36:40|            1.0|         2.95|       1.0|                 N|         164|         236|           1|       17.7|  1.0|    0.5|      5.68|         0.0|                  1.0|       28.38|                 2.5|        0.0|\n",
            "|       2| 2023-01-01 00:39:42|  2023-01-01 00:50:36|            1.0|         3.01|       1.0|                 N|         141|         107|           2|       14.9|  1.0|    0.5|       0.0|         0.0|                  1.0|        19.9|                 2.5|        0.0|\n",
            "|       2| 2023-01-01 00:53:01|  2023-01-01 01:01:45|            1.0|          1.8|       1.0|                 N|         234|          68|           1|       11.4|  1.0|    0.5|      3.28|         0.0|                  1.0|       19.68|                 2.5|        0.0|\n",
            "|       1| 2023-01-01 00:43:37|  2023-01-01 01:17:18|            4.0|          7.3|       1.0|                 N|          79|         264|           1|       33.8|  3.5|    0.5|      7.75|         0.0|                  1.0|       46.55|                 2.5|        0.0|\n",
            "|       2| 2023-01-01 00:34:44|  2023-01-01 01:04:25|            1.0|         3.23|       1.0|                 N|         164|         143|           1|       26.1|  1.0|    0.5|      6.22|         0.0|                  1.0|       37.32|                 2.5|        0.0|\n",
            "|       2| 2023-01-01 00:09:29|  2023-01-01 00:29:23|            2.0|        11.43|       1.0|                 N|         138|          33|           1|       44.3|  6.0|    0.5|     13.26|         0.0|                  1.0|       66.31|                 0.0|       1.25|\n",
            "|       2| 2023-01-01 00:33:53|  2023-01-01 00:49:15|            1.0|         2.95|       1.0|                 N|          33|          61|           1|       17.7|  1.0|    0.5|      4.04|         0.0|                  1.0|       24.24|                 0.0|        0.0|\n",
            "|       2| 2023-01-01 00:13:04|  2023-01-01 00:22:10|            1.0|         1.52|       1.0|                 N|          79|         186|           1|       10.0|  1.0|    0.5|      1.25|         0.0|                  1.0|       16.25|                 2.5|        0.0|\n",
            "|       2| 2023-01-01 00:45:11|  2023-01-01 01:07:39|            1.0|         2.23|       1.0|                 N|          90|          48|           1|       19.8|  1.0|    0.5|      4.96|         0.0|                  1.0|       29.76|                 2.5|        0.0|\n",
            "|       1| 2023-01-01 00:04:33|  2023-01-01 00:19:22|            1.0|          4.5|       1.0|                 N|         113|         255|           1|       20.5|  3.5|    0.5|       4.0|         0.0|                  1.0|        29.5|                 2.5|        0.0|\n",
            "|       1| 2023-01-01 00:03:36|  2023-01-01 00:09:36|            3.0|          1.2|       1.0|                 N|         237|         239|           2|        8.6|  3.5|    0.5|       0.0|         0.0|                  1.0|        13.6|                 2.5|        0.0|\n",
            "|       1| 2023-01-01 00:15:23|  2023-01-01 00:29:41|            2.0|          2.5|       1.0|                 N|         143|         229|           2|       15.6|  3.5|    0.5|       0.0|         0.0|                  1.0|        20.6|                 2.5|        0.0|\n",
            "+--------+--------------------+---------------------+---------------+-------------+----------+------------------+------------+------------+------------+-----------+-----+-------+----------+------------+---------------------+------------+--------------------+-----------+\n",
            "only showing top 20 rows\n",
            "\n"
          ]
        }
      ]
    },
    {
      "cell_type": "markdown",
      "source": [
        "#### Question №4: Display useful data by RateCode"
      ],
      "metadata": {
        "id": "nqMCaQQqzKxE"
      }
    },
    {
      "cell_type": "markdown",
      "source": [
        "![rate.jpg](data:image/jpeg;base64,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)"
      ],
      "metadata": {
        "id": "eo-eQuog0eMT"
      }
    },
    {
      "cell_type": "code",
      "source": [
        "spark.sql('''\n",
        "          SELECT RatecodeID AS rate_code,\n",
        "                 ROUND(AVG(total_amount),2) AS avg_total_amount,\n",
        "                 COUNT(tpep_pickup_datetime) AS count_trips,\n",
        "                 ROUND(AVG(passenger_count),2) AS avg_pass_count\n",
        "          FROM df\n",
        "          GROUP BY RatecodeID \n",
        "          ORDER BY RatecodeID ASC\n",
        "\n",
        "\n",
        "''').show()"
      ],
      "metadata": {
        "colab": {
          "base_uri": "https://localhost:8080/"
        },
        "id": "red1uzbk0fbD",
        "outputId": "9714556f-8030-4f1d-9f24-0079edd463fd"
      },
      "execution_count": 48,
      "outputs": [
        {
          "output_type": "stream",
          "name": "stdout",
          "text": [
            "+---------+----------------+-----------+--------------+\n",
            "|rate_code|avg_total_amount|count_trips|avg_pass_count|\n",
            "+---------+----------------+-----------+--------------+\n",
            "|     null|           29.13|      71743|          null|\n",
            "|      1.0|           23.74|    2839305|          1.36|\n",
            "|      2.0|           89.09|     114239|          1.52|\n",
            "|      3.0|           107.4|       8958|          1.64|\n",
            "|      4.0|          119.95|       4366|           1.4|\n",
            "|      5.0|           81.39|      15043|          1.52|\n",
            "|      6.0|          132.78|          6|           0.5|\n",
            "|     99.0|           37.76|      13106|           1.0|\n",
            "+---------+----------------+-----------+--------------+\n",
            "\n"
          ]
        }
      ]
    },
    {
      "cell_type": "markdown",
      "source": [
        "We obviously don't have an ideal dataset, because we see some unfamiliar values that are not described in the documentation. This can all be attributed to system failures and just ignore them. \n",
        "\n",
        "\n",
        "There is also a relationship between the type of trip and the final price, which is quite logical"
      ],
      "metadata": {
        "id": "1sf_GOmx1Y54"
      }
    },
    {
      "cell_type": "markdown",
      "source": [
        "#### Question №5: What type of payment is used most often?"
      ],
      "metadata": {
        "id": "RAdN2M_61xPv"
      }
    },
    {
      "cell_type": "markdown",
      "source": [
        "![rate.jpg](data:image/jpeg;base64,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)"
      ],
      "metadata": {
        "id": "_J-wZWv52X4g"
      }
    },
    {
      "cell_type": "code",
      "source": [
        "spark.sql('''\n",
        "          SELECT  payment_type,\n",
        "                  CASE \n",
        "                      WHEN payment_type = 1 THEN 'Credit Card'\n",
        "                      WHEN payment_type = 2 THEN 'Cash'\n",
        "                      WHEN payment_type = 3 THEN 'No charge'\n",
        "                      WHEN payment_type = 4 THEN 'Dispute'\n",
        "                      WHEN payment_type = 5 THEN 'Unknown'\n",
        "                      WHEN payment_type = 6 THEN 'Voided trip'\n",
        "                    ELSE 'no_info'\n",
        "                  END AS payment_type,\n",
        "                  COUNT(payment_type) AS count_payment_type,\n",
        "                  ROUND(AVG(total_amount),2) AS avg_total_amount,\n",
        "                   ROUND(AVG(tip_amount),2) AS avg_tip_amount,\n",
        "                  ROUND(MAX(total_amount),2) AS max_total_amount\n",
        "\n",
        "\n",
        "                 \n",
        "          FROM df\n",
        "          GROUP BY payment_type\n",
        "          ORDER BY COUNT(payment_type) DESC\n",
        "       \n",
        "\n",
        "\n",
        "''').show()"
      ],
      "metadata": {
        "id": "5FtNALnwhmHr",
        "colab": {
          "base_uri": "https://localhost:8080/"
        },
        "outputId": "4d187999-8a2f-468a-b693-b46926b52853"
      },
      "execution_count": 60,
      "outputs": [
        {
          "output_type": "stream",
          "name": "stdout",
          "text": [
            "+------------+------------+------------------+----------------+--------------+----------------+\n",
            "|payment_type|payment_type|count_payment_type|avg_total_amount|avg_tip_amount|max_total_amount|\n",
            "+------------+------------+------------------+----------------+--------------+----------------+\n",
            "|           1| Credit Card|           2411462|            28.3|          4.17|          545.55|\n",
            "|           2|        Cash|            532241|           23.03|           0.0|          1169.4|\n",
            "|           0|     no_info|             71743|           29.13|          3.73|          209.05|\n",
            "|           4|     Dispute|             33297|            2.55|          0.05|           603.5|\n",
            "|           3|   No charge|             18023|           10.51|          0.03|          1000.0|\n",
            "+------------+------------+------------------+----------------+--------------+----------------+\n",
            "\n"
          ]
        }
      ]
    },
    {
      "cell_type": "markdown",
      "source": [
        "The table shows that a credit card is most often used to pay for a trip.\n",
        "\n",
        "I also brought out the main indicators by type of payment."
      ],
      "metadata": {
        "id": "VxM7bfX02ejN"
      }
    },
    {
      "cell_type": "markdown",
      "source": [
        "#### Question №6: Show the biggest tip amount"
      ],
      "metadata": {
        "id": "SfQeIeM_4g_1"
      }
    },
    {
      "cell_type": "code",
      "source": [
        "spark.sql('''\n",
        "          SELECT DATEDIFF(minute,tpep_pickup_datetime,tpep_dropoff_datetime) AS trip_minutes,\n",
        "                 passenger_count,\n",
        "                 trip_distance,\n",
        "                 RatecodeID,\n",
        "                 payment_type,\n",
        "                 fare_amount,\n",
        "                 tip_amount,\n",
        "                 total_amount\n",
        "                 \n",
        "          FROM df\n",
        "          WHERE tip_amount IN (SELECT MAX(tip_amount)\n",
        "                               FROM df)\n",
        "       \n",
        "\n",
        "\n",
        "''').show()"
      ],
      "metadata": {
        "colab": {
          "base_uri": "https://localhost:8080/"
        },
        "id": "-Rpm4lrM2d8D",
        "outputId": "6567aaf4-7518-4c7f-fe1e-07a026f9b321"
      },
      "execution_count": 62,
      "outputs": [
        {
          "output_type": "stream",
          "name": "stdout",
          "text": [
            "+------------+---------------+-------------+----------+------------+-----------+----------+------------+\n",
            "|trip_minutes|passenger_count|trip_distance|RatecodeID|payment_type|fare_amount|tip_amount|total_amount|\n",
            "+------------+---------------+-------------+----------+------------+-----------+----------+------------+\n",
            "|           8|            2.0|         1.46|       1.0|           1|       10.7|     380.8|       395.5|\n",
            "+------------+---------------+-------------+----------+------------+-----------+----------+------------+\n",
            "\n"
          ]
        }
      ]
    },
    {
      "cell_type": "markdown",
      "source": [
        "The maximum tip was $ 380, but it is clear that the trip took only 8 minutes, perhaps we are working with an outlier again"
      ],
      "metadata": {
        "id": "ioPzd7yz5Ft0"
      }
    }
  ]
}